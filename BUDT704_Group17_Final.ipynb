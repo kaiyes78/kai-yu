{
 "cells": [
  {
   "cell_type": "markdown",
   "id": "73d3db8e",
   "metadata": {},
   "source": [
    "# MovieBusters"
   ]
  },
  {
   "cell_type": "markdown",
   "id": "73703c80",
   "metadata": {},
   "source": [
    "## Introduction\n",
    "\n",
    "The movie industry has been filled with intruiging what-ifs. It can be Will Smith turning down the role of Neo in the Matrix. Nicholas Cage had been cast as Superman, but he only had time to try out the Superman costume before the movie got cancelled. The industry has been characterized by uncertainty which has left fans wondering what might have been. \n",
    "\n",
    "But, for peoplpe behind the camera, this uncertainity is not good enough. With MovieBusters, our goal is to reduce the erraticness and help movie houses with the decision making process which is backed with data and AI. We aim at using historical film data acquired from sources like IMDB and The Numbers to tease out hidden patterns which can aid filmmakers like editors, writers, directors and actors in taking the right decision. \n",
    "\n",
    "The dataset scrapped from the above websites consist of film reated attributes like the year, the crew, boxoffice collection, audiience reviews and the movie summary. This data is cleaned to set the stage for further processing  which is then followed by analysis and predictions based on machine learning. \n",
    "\n",
    "We will answer the follwoing questions:\n"
   ]
  },
  {
   "cell_type": "markdown",
   "id": "78800206",
   "metadata": {},
   "source": [
    "#### 1. Which directors and actors are the production companies targeting? Are production companies choosing actors based on genres?\n",
    "We will analyze the data to show which directors, production houses go to for a certain type of film/genre. We want to know directors who are more diverse with respect to the genres. "
   ]
  },
  {
   "cell_type": "markdown",
   "id": "7b46fe14",
   "metadata": {},
   "source": [
    "#### 2. Do production companies target certain demographics? Does this vary by country?\n",
    "We will analyze the country, language and year data to see if there is a trend that production houses follow to select the target country. Additionally, we want to identify the trend in the languages that the movies have been made in over the years."
   ]
  },
  {
   "cell_type": "markdown",
   "id": "6ee6b1ab-6048-4860-927a-acbcb4c1156a",
   "metadata": {},
   "source": [
    "#### 3. Which directors and actors are the production companies targeting? \n",
    "We want to see whether the actors targeted by the production companies match up with the actors who generate significantly high ratings. If there is a match, we can infer that the production companies are targeting these actors likely because they generate high profits. However, if the actors are not matched, we can infer that there might be some other reasons that the production companies are targeting these actors. "
   ]
  },
  {
   "cell_type": "markdown",
   "id": "c6b4c4b1",
   "metadata": {},
   "source": [
    "#### 4. Do producers or production companies strategize release dates for certain kinds of films?\n",
    "We want to identify the pattern int he movie release dates that the production houses follow. Additionally, we want to see if there is a correlation between the movie date and the boxoffice returns. "
   ]
  },
  {
   "cell_type": "markdown",
   "id": "ac29a77b",
   "metadata": {},
   "source": [
    "#### 5. Are there specific keywords in the movie descriptions that tend to be more appealing to the audience?\n",
    "We will split the description into several phrases and analyze the frequency of each phrase/ word to check if any of them are correlated to the popularity of the movie. "
   ]
  },
  {
   "cell_type": "markdown",
   "id": "d1ac0ab2-2086-4792-83fe-f5dcb07f39e2",
   "metadata": {},
   "source": [
    "## Choice on Data Processing or Data Analysis\n",
    "We choose **data analysis** as our main focus. We have successfully created several visualizations that demonstrate the answer for each questions. In addition, we also use natural language processing to process and analyze text data and build a model to conduct a prediction."
   ]
  },
  {
   "cell_type": "markdown",
   "id": "91b5e360",
   "metadata": {},
   "source": [
    "## Data Processing\n",
    "We have conducted the following steps to perform data processing, and the details will be explained in each part. "
   ]
  },
  {
   "cell_type": "markdown",
   "id": "91d75b97",
   "metadata": {},
   "source": [
    "### 1. Data Acquisition"
   ]
  },
  {
   "cell_type": "markdown",
   "id": "baa4792b",
   "metadata": {},
   "source": [
    "The following code will be working on the data provided in- **IMDb movies.csv** <br> \n",
    "We'll first import all required libraries :"
   ]
  },
  {
   "cell_type": "code",
   "execution_count": 1,
   "id": "19191e0e",
   "metadata": {},
   "outputs": [],
   "source": [
    "# Importing libraries\n",
    "import requests\n",
    "from bs4 import BeautifulSoup\n",
    "import pandas as pd\n",
    "import numpy as np\n",
    "import matplotlib.pyplot as plt\n",
    "import seaborn as sns"
   ]
  },
  {
   "cell_type": "markdown",
   "id": "8bf5ceb0",
   "metadata": {},
   "source": [
    "We need to load the **IMDb movies.csv** file using `pd.read_csv`. File path needs to be changed accordingly based on your file location."
   ]
  },
  {
   "cell_type": "code",
   "execution_count": 2,
   "id": "4a8dcae4",
   "metadata": {},
   "outputs": [
    {
     "data": {
      "text/html": [
       "<div>\n",
       "<style scoped>\n",
       "    .dataframe tbody tr th:only-of-type {\n",
       "        vertical-align: middle;\n",
       "    }\n",
       "\n",
       "    .dataframe tbody tr th {\n",
       "        vertical-align: top;\n",
       "    }\n",
       "\n",
       "    .dataframe thead th {\n",
       "        text-align: right;\n",
       "    }\n",
       "</style>\n",
       "<table border=\"1\" class=\"dataframe\">\n",
       "  <thead>\n",
       "    <tr style=\"text-align: right;\">\n",
       "      <th></th>\n",
       "      <th>imdb_title_id</th>\n",
       "      <th>title</th>\n",
       "      <th>original_title</th>\n",
       "      <th>year</th>\n",
       "      <th>date_published</th>\n",
       "      <th>genre</th>\n",
       "      <th>duration</th>\n",
       "      <th>country</th>\n",
       "      <th>language</th>\n",
       "      <th>director</th>\n",
       "      <th>...</th>\n",
       "      <th>actors</th>\n",
       "      <th>description</th>\n",
       "      <th>avg_vote</th>\n",
       "      <th>votes</th>\n",
       "      <th>budget</th>\n",
       "      <th>usa_gross_income</th>\n",
       "      <th>worlwide_gross_income</th>\n",
       "      <th>metascore</th>\n",
       "      <th>reviews_from_users</th>\n",
       "      <th>reviews_from_critics</th>\n",
       "    </tr>\n",
       "  </thead>\n",
       "  <tbody>\n",
       "    <tr>\n",
       "      <th>0</th>\n",
       "      <td>tt0000009</td>\n",
       "      <td>Miss Jerry</td>\n",
       "      <td>Miss Jerry</td>\n",
       "      <td>1894</td>\n",
       "      <td>1894-10-09</td>\n",
       "      <td>Romance</td>\n",
       "      <td>45</td>\n",
       "      <td>USA</td>\n",
       "      <td>None</td>\n",
       "      <td>Alexander Black</td>\n",
       "      <td>...</td>\n",
       "      <td>Blanche Bayliss, William Courtenay, Chauncey D...</td>\n",
       "      <td>The adventures of a female reporter in the 1890s.</td>\n",
       "      <td>5.9</td>\n",
       "      <td>154</td>\n",
       "      <td>NaN</td>\n",
       "      <td>NaN</td>\n",
       "      <td>NaN</td>\n",
       "      <td>NaN</td>\n",
       "      <td>1.0</td>\n",
       "      <td>2.0</td>\n",
       "    </tr>\n",
       "    <tr>\n",
       "      <th>1</th>\n",
       "      <td>tt0000574</td>\n",
       "      <td>The Story of the Kelly Gang</td>\n",
       "      <td>The Story of the Kelly Gang</td>\n",
       "      <td>1906</td>\n",
       "      <td>1906-12-26</td>\n",
       "      <td>Biography, Crime, Drama</td>\n",
       "      <td>70</td>\n",
       "      <td>Australia</td>\n",
       "      <td>None</td>\n",
       "      <td>Charles Tait</td>\n",
       "      <td>...</td>\n",
       "      <td>Elizabeth Tait, John Tait, Norman Campbell, Be...</td>\n",
       "      <td>True story of notorious Australian outlaw Ned ...</td>\n",
       "      <td>6.1</td>\n",
       "      <td>589</td>\n",
       "      <td>$ 2250</td>\n",
       "      <td>NaN</td>\n",
       "      <td>NaN</td>\n",
       "      <td>NaN</td>\n",
       "      <td>7.0</td>\n",
       "      <td>7.0</td>\n",
       "    </tr>\n",
       "    <tr>\n",
       "      <th>2</th>\n",
       "      <td>tt0001892</td>\n",
       "      <td>Den sorte drøm</td>\n",
       "      <td>Den sorte drøm</td>\n",
       "      <td>1911</td>\n",
       "      <td>1911-08-19</td>\n",
       "      <td>Drama</td>\n",
       "      <td>53</td>\n",
       "      <td>Germany, Denmark</td>\n",
       "      <td>NaN</td>\n",
       "      <td>Urban Gad</td>\n",
       "      <td>...</td>\n",
       "      <td>Asta Nielsen, Valdemar Psilander, Gunnar Helse...</td>\n",
       "      <td>Two men of high rank are both wooing the beaut...</td>\n",
       "      <td>5.8</td>\n",
       "      <td>188</td>\n",
       "      <td>NaN</td>\n",
       "      <td>NaN</td>\n",
       "      <td>NaN</td>\n",
       "      <td>NaN</td>\n",
       "      <td>5.0</td>\n",
       "      <td>2.0</td>\n",
       "    </tr>\n",
       "    <tr>\n",
       "      <th>3</th>\n",
       "      <td>tt0002101</td>\n",
       "      <td>Cleopatra</td>\n",
       "      <td>Cleopatra</td>\n",
       "      <td>1912</td>\n",
       "      <td>1912-11-13</td>\n",
       "      <td>Drama, History</td>\n",
       "      <td>100</td>\n",
       "      <td>USA</td>\n",
       "      <td>English</td>\n",
       "      <td>Charles L. Gaskill</td>\n",
       "      <td>...</td>\n",
       "      <td>Helen Gardner, Pearl Sindelar, Miss Fielding, ...</td>\n",
       "      <td>The fabled queen of Egypt's affair with Roman ...</td>\n",
       "      <td>5.2</td>\n",
       "      <td>446</td>\n",
       "      <td>$ 45000</td>\n",
       "      <td>NaN</td>\n",
       "      <td>NaN</td>\n",
       "      <td>NaN</td>\n",
       "      <td>25.0</td>\n",
       "      <td>3.0</td>\n",
       "    </tr>\n",
       "    <tr>\n",
       "      <th>4</th>\n",
       "      <td>tt0002130</td>\n",
       "      <td>L'Inferno</td>\n",
       "      <td>L'Inferno</td>\n",
       "      <td>1911</td>\n",
       "      <td>1911-03-06</td>\n",
       "      <td>Adventure, Drama, Fantasy</td>\n",
       "      <td>68</td>\n",
       "      <td>Italy</td>\n",
       "      <td>Italian</td>\n",
       "      <td>Francesco Bertolini, Adolfo Padovan</td>\n",
       "      <td>...</td>\n",
       "      <td>Salvatore Papa, Arturo Pirovano, Giuseppe de L...</td>\n",
       "      <td>Loosely adapted from Dante's Divine Comedy and...</td>\n",
       "      <td>7.0</td>\n",
       "      <td>2237</td>\n",
       "      <td>NaN</td>\n",
       "      <td>NaN</td>\n",
       "      <td>NaN</td>\n",
       "      <td>NaN</td>\n",
       "      <td>31.0</td>\n",
       "      <td>14.0</td>\n",
       "    </tr>\n",
       "  </tbody>\n",
       "</table>\n",
       "<p>5 rows × 22 columns</p>\n",
       "</div>"
      ],
      "text/plain": [
       "  imdb_title_id                        title               original_title  \\\n",
       "0     tt0000009                   Miss Jerry                   Miss Jerry   \n",
       "1     tt0000574  The Story of the Kelly Gang  The Story of the Kelly Gang   \n",
       "2     tt0001892               Den sorte drøm               Den sorte drøm   \n",
       "3     tt0002101                    Cleopatra                    Cleopatra   \n",
       "4     tt0002130                    L'Inferno                    L'Inferno   \n",
       "\n",
       "   year date_published                      genre  duration           country  \\\n",
       "0  1894     1894-10-09                    Romance        45               USA   \n",
       "1  1906     1906-12-26    Biography, Crime, Drama        70         Australia   \n",
       "2  1911     1911-08-19                      Drama        53  Germany, Denmark   \n",
       "3  1912     1912-11-13             Drama, History       100               USA   \n",
       "4  1911     1911-03-06  Adventure, Drama, Fantasy        68             Italy   \n",
       "\n",
       "  language                             director  ...  \\\n",
       "0     None                      Alexander Black  ...   \n",
       "1     None                         Charles Tait  ...   \n",
       "2      NaN                            Urban Gad  ...   \n",
       "3  English                   Charles L. Gaskill  ...   \n",
       "4  Italian  Francesco Bertolini, Adolfo Padovan  ...   \n",
       "\n",
       "                                              actors  \\\n",
       "0  Blanche Bayliss, William Courtenay, Chauncey D...   \n",
       "1  Elizabeth Tait, John Tait, Norman Campbell, Be...   \n",
       "2  Asta Nielsen, Valdemar Psilander, Gunnar Helse...   \n",
       "3  Helen Gardner, Pearl Sindelar, Miss Fielding, ...   \n",
       "4  Salvatore Papa, Arturo Pirovano, Giuseppe de L...   \n",
       "\n",
       "                                         description avg_vote votes   budget  \\\n",
       "0  The adventures of a female reporter in the 1890s.      5.9   154      NaN   \n",
       "1  True story of notorious Australian outlaw Ned ...      6.1   589   $ 2250   \n",
       "2  Two men of high rank are both wooing the beaut...      5.8   188      NaN   \n",
       "3  The fabled queen of Egypt's affair with Roman ...      5.2   446  $ 45000   \n",
       "4  Loosely adapted from Dante's Divine Comedy and...      7.0  2237      NaN   \n",
       "\n",
       "   usa_gross_income worlwide_gross_income metascore reviews_from_users  \\\n",
       "0               NaN                   NaN       NaN                1.0   \n",
       "1               NaN                   NaN       NaN                7.0   \n",
       "2               NaN                   NaN       NaN                5.0   \n",
       "3               NaN                   NaN       NaN               25.0   \n",
       "4               NaN                   NaN       NaN               31.0   \n",
       "\n",
       "   reviews_from_critics  \n",
       "0                   2.0  \n",
       "1                   7.0  \n",
       "2                   2.0  \n",
       "3                   3.0  \n",
       "4                  14.0  \n",
       "\n",
       "[5 rows x 22 columns]"
      ]
     },
     "execution_count": 2,
     "metadata": {},
     "output_type": "execute_result"
    }
   ],
   "source": [
    "#Importing the IMDb Movies dataset\n",
    "imdb = pd.read_csv('IMDb movies.csv',dtype={'year': str})\n",
    "imdb.head()"
   ]
  },
  {
   "cell_type": "markdown",
   "id": "60829e36",
   "metadata": {},
   "source": [
    "We will be using [The Numbers](https://www.the-numbers.com/) website to impute the missing values in the Worldwide_Gross_Income column"
   ]
  },
  {
   "cell_type": "markdown",
   "id": "1d922d9f",
   "metadata": {},
   "source": [
    "The following code will scrape data from the website and it takes very long to complete execution due to large amount of pages being examined, so we only execute it once and store the result in the `money.xlsx` file.<br> **Please avoid running the following cell!!**"
   ]
  },
  {
   "cell_type": "code",
   "execution_count": 3,
   "id": "bff23bef",
   "metadata": {},
   "outputs": [],
   "source": [
    "#Scraping data from The Numbers website\n",
    "first_movie_index = 1\n",
    "last_movie_index = 32901\n",
    "movies_on_each_page = 100\n",
    "df_name = pd.DataFrame()\n",
    "df = pd.DataFrame()\n",
    "for movie in range (first_movie_index,last_movie_index,movies_on_each_page):\n",
    "    url = 'https://www.the-numbers.com/box-office-records/worldwide/all-movies/cumulative/all-time/' + str(movie)\n",
    "    page = requests.get(url)\n",
    "    page_soup = BeautifulSoup(page.text, 'html.parser')\n",
    "    \n",
    "    for n in range(81,281,2):\n",
    "        df_name = df_name.append({'Year' : page_soup.find_all(name=\"a\")[n].text, 'Movie' : page_soup.find_all(name=\"a\")[n+1].text}, ignore_index = True)\n",
    "\n",
    "    for x in range(0,300,3):\n",
    "        df = df.append({'Worldwide Box Office' : page_soup.find_all(name = \"td\", align = 'right')[x].text, 'Domestic Box Office' : page_soup.find_all(name = \"td\", align = 'right')[x+1].text, 'International Box Office' : page_soup.find_all(name = \"td\", align = 'right')[x+2].text}, ignore_index = True)\n",
    "    \n",
    "money = pd.concat([df_name, df], axis=1)\n",
    "money.to_excel(\"money.xlsx\")"
   ]
  },
  {
   "cell_type": "markdown",
   "id": "4ef6d2de",
   "metadata": {},
   "source": [
    "We need to load the **money.xlsx** file using `pd.read_excel`"
   ]
  },
  {
   "cell_type": "code",
   "execution_count": 4,
   "id": "673d1e92",
   "metadata": {},
   "outputs": [],
   "source": [
    "#Importing the two dataset we are going to use\n",
    "money = pd.read_excel('money.xlsx')"
   ]
  },
  {
   "cell_type": "markdown",
   "id": "6eb602ac",
   "metadata": {},
   "source": [
    "Then, We will use the movie name as the key to merge the 2 dataframes"
   ]
  },
  {
   "cell_type": "code",
   "execution_count": 5,
   "id": "c7cd6649",
   "metadata": {},
   "outputs": [],
   "source": [
    "# Converting the movie names to lower case and removing any spaces in the names for better match\n",
    "imdb['Movietemp'] = imdb['original_title'].str.replace(' ','').str.lower()\n",
    "money['Movietemp'] = money['Movie'].str.replace(' ','').str.lower()\n"
   ]
  },
  {
   "cell_type": "markdown",
   "id": "e7d7fb41",
   "metadata": {},
   "source": [
    "We compare the box office data from both the dataset to check if they are valid"
   ]
  },
  {
   "cell_type": "code",
   "execution_count": 6,
   "id": "42758901",
   "metadata": {},
   "outputs": [],
   "source": [
    "# merge money and imdb dataframe\n",
    "df = pd.merge(money,imdb, on=['Movietemp'], how='inner')"
   ]
  },
  {
   "cell_type": "markdown",
   "id": "0abf8f43",
   "metadata": {},
   "source": [
    "We display the first 20 rows to validate the consistence"
   ]
  },
  {
   "cell_type": "code",
   "execution_count": 7,
   "id": "75be269b",
   "metadata": {},
   "outputs": [
    {
     "data": {
      "text/html": [
       "<div>\n",
       "<style scoped>\n",
       "    .dataframe tbody tr th:only-of-type {\n",
       "        vertical-align: middle;\n",
       "    }\n",
       "\n",
       "    .dataframe tbody tr th {\n",
       "        vertical-align: top;\n",
       "    }\n",
       "\n",
       "    .dataframe thead th {\n",
       "        text-align: right;\n",
       "    }\n",
       "</style>\n",
       "<table border=\"1\" class=\"dataframe\">\n",
       "  <thead>\n",
       "    <tr style=\"text-align: right;\">\n",
       "      <th></th>\n",
       "      <th>Worldwide Box Office</th>\n",
       "      <th>worlwide_gross_income</th>\n",
       "    </tr>\n",
       "  </thead>\n",
       "  <tbody>\n",
       "    <tr>\n",
       "      <th>0</th>\n",
       "      <td>$2,845,899,541</td>\n",
       "      <td>$ 2790439092</td>\n",
       "    </tr>\n",
       "    <tr>\n",
       "      <th>1</th>\n",
       "      <td>$2,797,800,564</td>\n",
       "      <td>$ 2797800564</td>\n",
       "    </tr>\n",
       "    <tr>\n",
       "      <th>2</th>\n",
       "      <td>$2,207,986,545</td>\n",
       "      <td>NaN</td>\n",
       "    </tr>\n",
       "    <tr>\n",
       "      <th>3</th>\n",
       "      <td>$2,207,986,545</td>\n",
       "      <td>NaN</td>\n",
       "    </tr>\n",
       "    <tr>\n",
       "      <th>4</th>\n",
       "      <td>$2,207,986,545</td>\n",
       "      <td>$ 2195169869</td>\n",
       "    </tr>\n",
       "    <tr>\n",
       "      <th>5</th>\n",
       "      <td>$2,044,540,523</td>\n",
       "      <td>$ 2048359754</td>\n",
       "    </tr>\n",
       "    <tr>\n",
       "      <th>6</th>\n",
       "      <td>$1,669,979,967</td>\n",
       "      <td>$ 1670401444</td>\n",
       "    </tr>\n",
       "    <tr>\n",
       "      <th>7</th>\n",
       "      <td>$1,654,367,425</td>\n",
       "      <td>$ 968511805</td>\n",
       "    </tr>\n",
       "    <tr>\n",
       "      <th>8</th>\n",
       "      <td>$1,654,367,425</td>\n",
       "      <td>$ 1656963790</td>\n",
       "    </tr>\n",
       "    <tr>\n",
       "      <th>9</th>\n",
       "      <td>$986,214,868</td>\n",
       "      <td>$ 968511805</td>\n",
       "    </tr>\n",
       "    <tr>\n",
       "      <th>10</th>\n",
       "      <td>$986,214,868</td>\n",
       "      <td>$ 1656963790</td>\n",
       "    </tr>\n",
       "    <tr>\n",
       "      <th>11</th>\n",
       "      <td>$1,515,100,211</td>\n",
       "      <td>$ 23384939</td>\n",
       "    </tr>\n",
       "    <tr>\n",
       "      <th>12</th>\n",
       "      <td>$1,515,100,211</td>\n",
       "      <td>$ 1518814206</td>\n",
       "    </tr>\n",
       "    <tr>\n",
       "      <th>13</th>\n",
       "      <td>$48,585,416</td>\n",
       "      <td>$ 23384939</td>\n",
       "    </tr>\n",
       "    <tr>\n",
       "      <th>14</th>\n",
       "      <td>$48,585,416</td>\n",
       "      <td>$ 1518814206</td>\n",
       "    </tr>\n",
       "    <tr>\n",
       "      <th>15</th>\n",
       "      <td>$1,445,182,280</td>\n",
       "      <td>$ 1450026933</td>\n",
       "    </tr>\n",
       "    <tr>\n",
       "      <th>16</th>\n",
       "      <td>$1,395,316,979</td>\n",
       "      <td>$ 1402808753</td>\n",
       "    </tr>\n",
       "    <tr>\n",
       "      <th>17</th>\n",
       "      <td>$1,336,494,321</td>\n",
       "      <td>$ 1347280838</td>\n",
       "    </tr>\n",
       "    <tr>\n",
       "      <th>18</th>\n",
       "      <td>$1,308,334,005</td>\n",
       "      <td>$ 1331958159</td>\n",
       "    </tr>\n",
       "    <tr>\n",
       "      <th>19</th>\n",
       "      <td>$1,265,767,173</td>\n",
       "      <td>NaN</td>\n",
       "    </tr>\n",
       "  </tbody>\n",
       "</table>\n",
       "</div>"
      ],
      "text/plain": [
       "   Worldwide Box Office worlwide_gross_income\n",
       "0        $2,845,899,541          $ 2790439092\n",
       "1        $2,797,800,564          $ 2797800564\n",
       "2        $2,207,986,545                   NaN\n",
       "3        $2,207,986,545                   NaN\n",
       "4        $2,207,986,545          $ 2195169869\n",
       "5        $2,044,540,523          $ 2048359754\n",
       "6        $1,669,979,967          $ 1670401444\n",
       "7        $1,654,367,425           $ 968511805\n",
       "8        $1,654,367,425          $ 1656963790\n",
       "9          $986,214,868           $ 968511805\n",
       "10         $986,214,868          $ 1656963790\n",
       "11       $1,515,100,211            $ 23384939\n",
       "12       $1,515,100,211          $ 1518814206\n",
       "13          $48,585,416            $ 23384939\n",
       "14          $48,585,416          $ 1518814206\n",
       "15       $1,445,182,280          $ 1450026933\n",
       "16       $1,395,316,979          $ 1402808753\n",
       "17       $1,336,494,321          $ 1347280838\n",
       "18       $1,308,334,005          $ 1331958159\n",
       "19       $1,265,767,173                   NaN"
      ]
     },
     "execution_count": 7,
     "metadata": {},
     "output_type": "execute_result"
    }
   ],
   "source": [
    "df[['Worldwide Box Office','worlwide_gross_income']].head(20)"
   ]
  },
  {
   "cell_type": "markdown",
   "id": "6f21ddb3",
   "metadata": {},
   "source": [
    "The worldwide Box Office column has been scrapred from the The Numbers website and the `worlwide_gross_income` column is from the IMDB dataset. We have merged the 2 dataframes to verify that the gross income data integrity is maintained. We can see that the numbers of the income data matches and hence, we can confirm that the IMDB data is accurate."
   ]
  },
  {
   "cell_type": "markdown",
   "id": "f0274d57",
   "metadata": {},
   "source": [
    "We will then try to impute missing values in  the worlwide_gross_income column with the corresponding values in Worldwide Box Office"
   ]
  },
  {
   "cell_type": "code",
   "execution_count": 8,
   "id": "206b1196",
   "metadata": {},
   "outputs": [],
   "source": [
    "# merge money and imdb dataframe\n",
    "final = pd.merge(imdb,money, on=['Movietemp'], how='left')"
   ]
  },
  {
   "cell_type": "markdown",
   "id": "1c8f5fd4",
   "metadata": {},
   "source": [
    "Display the number of worlwide gross income before imputing any values"
   ]
  },
  {
   "cell_type": "code",
   "execution_count": 9,
   "id": "54af8dd5",
   "metadata": {},
   "outputs": [
    {
     "name": "stdout",
     "output_type": "stream",
     "text": [
      "Before Imputing \n",
      "worlwide_gross_income    32428\n",
      "Worldwide Box Office     23108\n",
      "dtype: int64\n",
      "\n"
     ]
    }
   ],
   "source": [
    "print(f\"Before Imputing \\n{final[['worlwide_gross_income','Worldwide Box Office']].count()}\\n\")"
   ]
  },
  {
   "cell_type": "markdown",
   "id": "e8a3c211",
   "metadata": {},
   "source": [
    "Next, we impute missing values with the corresponding values in Worldwide Box Office"
   ]
  },
  {
   "cell_type": "code",
   "execution_count": 10,
   "id": "7781ec20",
   "metadata": {},
   "outputs": [],
   "source": [
    "final.loc[final['worlwide_gross_income'].isnull(), 'worlwide_gross_income'] = final.loc[final['worlwide_gross_income'].isnull(), 'Worldwide Box Office']\n"
   ]
  },
  {
   "cell_type": "markdown",
   "id": "c672d18e",
   "metadata": {},
   "source": [
    "Display the number of worlwide gross income after imputing any values"
   ]
  },
  {
   "cell_type": "code",
   "execution_count": 11,
   "id": "f39dc0e3",
   "metadata": {},
   "outputs": [
    {
     "name": "stdout",
     "output_type": "stream",
     "text": [
      "After Imputing \n",
      "worlwide_gross_income    37380\n",
      "Worldwide Box Office     23108\n",
      "dtype: int64\n"
     ]
    }
   ],
   "source": [
    "print(f\"After Imputing \\n{final[['worlwide_gross_income','Worldwide Box Office']].count()}\")"
   ]
  },
  {
   "cell_type": "markdown",
   "id": "a8c1e4f8",
   "metadata": {},
   "source": [
    "We can finally see that there are approximately 5000 rows more missing value having been imputed"
   ]
  },
  {
   "cell_type": "markdown",
   "id": "a13cac10",
   "metadata": {},
   "source": [
    "### 2. DATA CLEANING\n",
    "We will use the following ways to clean the data:\n",
    "- Change column name to be more informative\n",
    "- Delete columns that do not provide any information for analysis\n",
    "- Drop duplicate columns \n",
    "- Substitute reasonable values for missing values"
   ]
  },
  {
   "cell_type": "code",
   "execution_count": null,
   "id": "48347954-66eb-4345-bd5d-24f3c8bd442f",
   "metadata": {},
   "outputs": [],
   "source": []
  },
  {
   "cell_type": "markdown",
   "id": "5fdaafc2",
   "metadata": {},
   "source": [
    "#### 1. Column name manipulation\n",
    "The column names are in lower case. We will convert the first letter of each name into capital"
   ]
  },
  {
   "cell_type": "code",
   "execution_count": 12,
   "id": "d7f18fec",
   "metadata": {},
   "outputs": [],
   "source": [
    "# Making the first letter of the column names capital\n",
    "final.columns= final.columns.str.title()"
   ]
  },
  {
   "cell_type": "markdown",
   "id": "68d60849",
   "metadata": {},
   "source": [
    "#### 2. Dropping columns\n",
    "    1) Metascore column as we will be using the the IMDB ratings for our analysis\n",
    "    2) Movietemp column because we just used it for merging \n",
    "    3) Year_x and Year_y as we will be using Date_published column\n",
    "    4) Worldwide Box Office, Domestic Box Office and International Box Office as we will only be using worldwide_gross_income for our analysis\n",
    "    5) Movie and Title as we will be using original_title column \n",
    "    6) Unnamed: 0 as it is redundant"
   ]
  },
  {
   "cell_type": "code",
   "execution_count": 13,
   "id": "872a6ce5",
   "metadata": {},
   "outputs": [
    {
     "data": {
      "text/html": [
       "<div>\n",
       "<style scoped>\n",
       "    .dataframe tbody tr th:only-of-type {\n",
       "        vertical-align: middle;\n",
       "    }\n",
       "\n",
       "    .dataframe tbody tr th {\n",
       "        vertical-align: top;\n",
       "    }\n",
       "\n",
       "    .dataframe thead th {\n",
       "        text-align: right;\n",
       "    }\n",
       "</style>\n",
       "<table border=\"1\" class=\"dataframe\">\n",
       "  <thead>\n",
       "    <tr style=\"text-align: right;\">\n",
       "      <th></th>\n",
       "      <th>Imdb_Title_Id</th>\n",
       "      <th>Title</th>\n",
       "      <th>Original_Title</th>\n",
       "      <th>Year</th>\n",
       "      <th>Date_Published</th>\n",
       "      <th>Genre</th>\n",
       "      <th>Duration</th>\n",
       "      <th>Country</th>\n",
       "      <th>Language</th>\n",
       "      <th>Director</th>\n",
       "      <th>...</th>\n",
       "      <th>Metascore</th>\n",
       "      <th>Reviews_From_Users</th>\n",
       "      <th>Reviews_From_Critics</th>\n",
       "      <th>Movietemp</th>\n",
       "      <th>Unnamed: 0</th>\n",
       "      <th>Movie</th>\n",
       "      <th>Year</th>\n",
       "      <th>Domestic Box Office</th>\n",
       "      <th>International Box Office</th>\n",
       "      <th>Worldwide Box Office</th>\n",
       "    </tr>\n",
       "  </thead>\n",
       "  <tbody>\n",
       "    <tr>\n",
       "      <th>0</th>\n",
       "      <td>tt0000009</td>\n",
       "      <td>Miss Jerry</td>\n",
       "      <td>Miss Jerry</td>\n",
       "      <td>1894</td>\n",
       "      <td>1894-10-09</td>\n",
       "      <td>Romance</td>\n",
       "      <td>45</td>\n",
       "      <td>USA</td>\n",
       "      <td>None</td>\n",
       "      <td>Alexander Black</td>\n",
       "      <td>...</td>\n",
       "      <td>NaN</td>\n",
       "      <td>1.0</td>\n",
       "      <td>2.0</td>\n",
       "      <td>missjerry</td>\n",
       "      <td>NaN</td>\n",
       "      <td>NaN</td>\n",
       "      <td>NaN</td>\n",
       "      <td>NaN</td>\n",
       "      <td>NaN</td>\n",
       "      <td>NaN</td>\n",
       "    </tr>\n",
       "    <tr>\n",
       "      <th>1</th>\n",
       "      <td>tt0000574</td>\n",
       "      <td>The Story of the Kelly Gang</td>\n",
       "      <td>The Story of the Kelly Gang</td>\n",
       "      <td>1906</td>\n",
       "      <td>1906-12-26</td>\n",
       "      <td>Biography, Crime, Drama</td>\n",
       "      <td>70</td>\n",
       "      <td>Australia</td>\n",
       "      <td>None</td>\n",
       "      <td>Charles Tait</td>\n",
       "      <td>...</td>\n",
       "      <td>NaN</td>\n",
       "      <td>7.0</td>\n",
       "      <td>7.0</td>\n",
       "      <td>thestoryofthekellygang</td>\n",
       "      <td>NaN</td>\n",
       "      <td>NaN</td>\n",
       "      <td>NaN</td>\n",
       "      <td>NaN</td>\n",
       "      <td>NaN</td>\n",
       "      <td>NaN</td>\n",
       "    </tr>\n",
       "    <tr>\n",
       "      <th>2</th>\n",
       "      <td>tt0001892</td>\n",
       "      <td>Den sorte drøm</td>\n",
       "      <td>Den sorte drøm</td>\n",
       "      <td>1911</td>\n",
       "      <td>1911-08-19</td>\n",
       "      <td>Drama</td>\n",
       "      <td>53</td>\n",
       "      <td>Germany, Denmark</td>\n",
       "      <td>NaN</td>\n",
       "      <td>Urban Gad</td>\n",
       "      <td>...</td>\n",
       "      <td>NaN</td>\n",
       "      <td>5.0</td>\n",
       "      <td>2.0</td>\n",
       "      <td>densortedrøm</td>\n",
       "      <td>NaN</td>\n",
       "      <td>NaN</td>\n",
       "      <td>NaN</td>\n",
       "      <td>NaN</td>\n",
       "      <td>NaN</td>\n",
       "      <td>NaN</td>\n",
       "    </tr>\n",
       "    <tr>\n",
       "      <th>3</th>\n",
       "      <td>tt0002101</td>\n",
       "      <td>Cleopatra</td>\n",
       "      <td>Cleopatra</td>\n",
       "      <td>1912</td>\n",
       "      <td>1912-11-13</td>\n",
       "      <td>Drama, History</td>\n",
       "      <td>100</td>\n",
       "      <td>USA</td>\n",
       "      <td>English</td>\n",
       "      <td>Charles L. Gaskill</td>\n",
       "      <td>...</td>\n",
       "      <td>NaN</td>\n",
       "      <td>25.0</td>\n",
       "      <td>3.0</td>\n",
       "      <td>cleopatra</td>\n",
       "      <td>2211.0</td>\n",
       "      <td>Cleopatra</td>\n",
       "      <td>1963.0</td>\n",
       "      <td>$57,000,000</td>\n",
       "      <td>$14,000,000</td>\n",
       "      <td>$71,000,000</td>\n",
       "    </tr>\n",
       "    <tr>\n",
       "      <th>4</th>\n",
       "      <td>tt0002130</td>\n",
       "      <td>L'Inferno</td>\n",
       "      <td>L'Inferno</td>\n",
       "      <td>1911</td>\n",
       "      <td>1911-03-06</td>\n",
       "      <td>Adventure, Drama, Fantasy</td>\n",
       "      <td>68</td>\n",
       "      <td>Italy</td>\n",
       "      <td>Italian</td>\n",
       "      <td>Francesco Bertolini, Adolfo Padovan</td>\n",
       "      <td>...</td>\n",
       "      <td>NaN</td>\n",
       "      <td>31.0</td>\n",
       "      <td>14.0</td>\n",
       "      <td>l'inferno</td>\n",
       "      <td>NaN</td>\n",
       "      <td>NaN</td>\n",
       "      <td>NaN</td>\n",
       "      <td>NaN</td>\n",
       "      <td>NaN</td>\n",
       "      <td>NaN</td>\n",
       "    </tr>\n",
       "    <tr>\n",
       "      <th>...</th>\n",
       "      <td>...</td>\n",
       "      <td>...</td>\n",
       "      <td>...</td>\n",
       "      <td>...</td>\n",
       "      <td>...</td>\n",
       "      <td>...</td>\n",
       "      <td>...</td>\n",
       "      <td>...</td>\n",
       "      <td>...</td>\n",
       "      <td>...</td>\n",
       "      <td>...</td>\n",
       "      <td>...</td>\n",
       "      <td>...</td>\n",
       "      <td>...</td>\n",
       "      <td>...</td>\n",
       "      <td>...</td>\n",
       "      <td>...</td>\n",
       "      <td>...</td>\n",
       "      <td>...</td>\n",
       "      <td>...</td>\n",
       "      <td>...</td>\n",
       "    </tr>\n",
       "    <tr>\n",
       "      <th>88065</th>\n",
       "      <td>tt9908390</td>\n",
       "      <td>Le lion</td>\n",
       "      <td>Le lion</td>\n",
       "      <td>2020</td>\n",
       "      <td>2020-01-29</td>\n",
       "      <td>Comedy</td>\n",
       "      <td>95</td>\n",
       "      <td>France, Belgium</td>\n",
       "      <td>French</td>\n",
       "      <td>Ludovic Colbeau-Justin</td>\n",
       "      <td>...</td>\n",
       "      <td>NaN</td>\n",
       "      <td>NaN</td>\n",
       "      <td>4.0</td>\n",
       "      <td>lelion</td>\n",
       "      <td>10399.0</td>\n",
       "      <td>Le lion</td>\n",
       "      <td>2020.0</td>\n",
       "      <td>NaN</td>\n",
       "      <td>$3,474,474</td>\n",
       "      <td>$3,474,474</td>\n",
       "    </tr>\n",
       "    <tr>\n",
       "      <th>88066</th>\n",
       "      <td>tt9911196</td>\n",
       "      <td>De Beentjes van Sint-Hildegard</td>\n",
       "      <td>De Beentjes van Sint-Hildegard</td>\n",
       "      <td>2020</td>\n",
       "      <td>2020-02-13</td>\n",
       "      <td>Comedy, Drama</td>\n",
       "      <td>103</td>\n",
       "      <td>Netherlands</td>\n",
       "      <td>German, Dutch</td>\n",
       "      <td>Johan Nijenhuis</td>\n",
       "      <td>...</td>\n",
       "      <td>NaN</td>\n",
       "      <td>6.0</td>\n",
       "      <td>4.0</td>\n",
       "      <td>debeentjesvansint-hildegard</td>\n",
       "      <td>7994.0</td>\n",
       "      <td>De Beentjes Van Sint-Hildegard</td>\n",
       "      <td>2020.0</td>\n",
       "      <td>NaN</td>\n",
       "      <td>$7,723,484</td>\n",
       "      <td>$7,723,484</td>\n",
       "    </tr>\n",
       "    <tr>\n",
       "      <th>88067</th>\n",
       "      <td>tt9911774</td>\n",
       "      <td>Padmavyuhathile Abhimanyu</td>\n",
       "      <td>Padmavyuhathile Abhimanyu</td>\n",
       "      <td>2019</td>\n",
       "      <td>2019-03-08</td>\n",
       "      <td>Drama</td>\n",
       "      <td>130</td>\n",
       "      <td>India</td>\n",
       "      <td>Malayalam</td>\n",
       "      <td>Vineesh Aaradya</td>\n",
       "      <td>...</td>\n",
       "      <td>NaN</td>\n",
       "      <td>NaN</td>\n",
       "      <td>NaN</td>\n",
       "      <td>padmavyuhathileabhimanyu</td>\n",
       "      <td>NaN</td>\n",
       "      <td>NaN</td>\n",
       "      <td>NaN</td>\n",
       "      <td>NaN</td>\n",
       "      <td>NaN</td>\n",
       "      <td>NaN</td>\n",
       "    </tr>\n",
       "    <tr>\n",
       "      <th>88068</th>\n",
       "      <td>tt9914286</td>\n",
       "      <td>Sokagin Çocuklari</td>\n",
       "      <td>Sokagin Çocuklari</td>\n",
       "      <td>2019</td>\n",
       "      <td>2019-03-15</td>\n",
       "      <td>Drama, Family</td>\n",
       "      <td>98</td>\n",
       "      <td>Turkey</td>\n",
       "      <td>Turkish</td>\n",
       "      <td>Ahmet Faik Akinci</td>\n",
       "      <td>...</td>\n",
       "      <td>NaN</td>\n",
       "      <td>NaN</td>\n",
       "      <td>NaN</td>\n",
       "      <td>sokaginçocuklari</td>\n",
       "      <td>NaN</td>\n",
       "      <td>NaN</td>\n",
       "      <td>NaN</td>\n",
       "      <td>NaN</td>\n",
       "      <td>NaN</td>\n",
       "      <td>NaN</td>\n",
       "    </tr>\n",
       "    <tr>\n",
       "      <th>88069</th>\n",
       "      <td>tt9914942</td>\n",
       "      <td>La vida sense la Sara Amat</td>\n",
       "      <td>La vida sense la Sara Amat</td>\n",
       "      <td>2019</td>\n",
       "      <td>2020-02-05</td>\n",
       "      <td>Drama</td>\n",
       "      <td>74</td>\n",
       "      <td>Spain</td>\n",
       "      <td>Catalan</td>\n",
       "      <td>Laura Jou</td>\n",
       "      <td>...</td>\n",
       "      <td>NaN</td>\n",
       "      <td>NaN</td>\n",
       "      <td>2.0</td>\n",
       "      <td>lavidasenselasaraamat</td>\n",
       "      <td>22702.0</td>\n",
       "      <td>La vida sense la Sara Amat</td>\n",
       "      <td>2019.0</td>\n",
       "      <td>NaN</td>\n",
       "      <td>$59,768</td>\n",
       "      <td>$59,768</td>\n",
       "    </tr>\n",
       "  </tbody>\n",
       "</table>\n",
       "<p>88070 rows × 29 columns</p>\n",
       "</div>"
      ],
      "text/plain": [
       "      Imdb_Title_Id                           Title  \\\n",
       "0         tt0000009                      Miss Jerry   \n",
       "1         tt0000574     The Story of the Kelly Gang   \n",
       "2         tt0001892                  Den sorte drøm   \n",
       "3         tt0002101                       Cleopatra   \n",
       "4         tt0002130                       L'Inferno   \n",
       "...             ...                             ...   \n",
       "88065     tt9908390                         Le lion   \n",
       "88066     tt9911196  De Beentjes van Sint-Hildegard   \n",
       "88067     tt9911774       Padmavyuhathile Abhimanyu   \n",
       "88068     tt9914286               Sokagin Çocuklari   \n",
       "88069     tt9914942      La vida sense la Sara Amat   \n",
       "\n",
       "                       Original_Title  Year Date_Published  \\\n",
       "0                          Miss Jerry  1894     1894-10-09   \n",
       "1         The Story of the Kelly Gang  1906     1906-12-26   \n",
       "2                      Den sorte drøm  1911     1911-08-19   \n",
       "3                           Cleopatra  1912     1912-11-13   \n",
       "4                           L'Inferno  1911     1911-03-06   \n",
       "...                               ...   ...            ...   \n",
       "88065                         Le lion  2020     2020-01-29   \n",
       "88066  De Beentjes van Sint-Hildegard  2020     2020-02-13   \n",
       "88067       Padmavyuhathile Abhimanyu  2019     2019-03-08   \n",
       "88068               Sokagin Çocuklari  2019     2019-03-15   \n",
       "88069      La vida sense la Sara Amat  2019     2020-02-05   \n",
       "\n",
       "                           Genre  Duration           Country       Language  \\\n",
       "0                        Romance        45               USA           None   \n",
       "1        Biography, Crime, Drama        70         Australia           None   \n",
       "2                          Drama        53  Germany, Denmark            NaN   \n",
       "3                 Drama, History       100               USA        English   \n",
       "4      Adventure, Drama, Fantasy        68             Italy        Italian   \n",
       "...                          ...       ...               ...            ...   \n",
       "88065                     Comedy        95   France, Belgium         French   \n",
       "88066              Comedy, Drama       103       Netherlands  German, Dutch   \n",
       "88067                      Drama       130             India      Malayalam   \n",
       "88068              Drama, Family        98            Turkey        Turkish   \n",
       "88069                      Drama        74             Spain        Catalan   \n",
       "\n",
       "                                  Director  ... Metascore Reviews_From_Users  \\\n",
       "0                          Alexander Black  ...       NaN                1.0   \n",
       "1                             Charles Tait  ...       NaN                7.0   \n",
       "2                                Urban Gad  ...       NaN                5.0   \n",
       "3                       Charles L. Gaskill  ...       NaN               25.0   \n",
       "4      Francesco Bertolini, Adolfo Padovan  ...       NaN               31.0   \n",
       "...                                    ...  ...       ...                ...   \n",
       "88065               Ludovic Colbeau-Justin  ...       NaN                NaN   \n",
       "88066                      Johan Nijenhuis  ...       NaN                6.0   \n",
       "88067                      Vineesh Aaradya  ...       NaN                NaN   \n",
       "88068                    Ahmet Faik Akinci  ...       NaN                NaN   \n",
       "88069                            Laura Jou  ...       NaN                NaN   \n",
       "\n",
       "      Reviews_From_Critics                    Movietemp  Unnamed: 0  \\\n",
       "0                      2.0                    missjerry         NaN   \n",
       "1                      7.0       thestoryofthekellygang         NaN   \n",
       "2                      2.0                 densortedrøm         NaN   \n",
       "3                      3.0                    cleopatra      2211.0   \n",
       "4                     14.0                    l'inferno         NaN   \n",
       "...                    ...                          ...         ...   \n",
       "88065                  4.0                       lelion     10399.0   \n",
       "88066                  4.0  debeentjesvansint-hildegard      7994.0   \n",
       "88067                  NaN     padmavyuhathileabhimanyu         NaN   \n",
       "88068                  NaN             sokaginçocuklari         NaN   \n",
       "88069                  2.0        lavidasenselasaraamat     22702.0   \n",
       "\n",
       "                                Movie    Year Domestic Box Office  \\\n",
       "0                                 NaN     NaN                 NaN   \n",
       "1                                 NaN     NaN                 NaN   \n",
       "2                                 NaN     NaN                 NaN   \n",
       "3                           Cleopatra  1963.0         $57,000,000   \n",
       "4                                 NaN     NaN                 NaN   \n",
       "...                               ...     ...                 ...   \n",
       "88065                         Le lion  2020.0                 NaN   \n",
       "88066  De Beentjes Van Sint-Hildegard  2020.0                 NaN   \n",
       "88067                             NaN     NaN                 NaN   \n",
       "88068                             NaN     NaN                 NaN   \n",
       "88069      La vida sense la Sara Amat  2019.0                 NaN   \n",
       "\n",
       "      International Box Office  Worldwide Box Office  \n",
       "0                          NaN                   NaN  \n",
       "1                          NaN                   NaN  \n",
       "2                          NaN                   NaN  \n",
       "3                  $14,000,000           $71,000,000  \n",
       "4                          NaN                   NaN  \n",
       "...                        ...                   ...  \n",
       "88065               $3,474,474            $3,474,474  \n",
       "88066               $7,723,484            $7,723,484  \n",
       "88067                      NaN                   NaN  \n",
       "88068                      NaN                   NaN  \n",
       "88069                  $59,768               $59,768  \n",
       "\n",
       "[88070 rows x 29 columns]"
      ]
     },
     "execution_count": 13,
     "metadata": {},
     "output_type": "execute_result"
    }
   ],
   "source": [
    "final"
   ]
  },
  {
   "cell_type": "markdown",
   "id": "d8d98ae4",
   "metadata": {},
   "source": [
    "We drop unnecessary columns"
   ]
  },
  {
   "cell_type": "code",
   "execution_count": 14,
   "id": "2d438f2a",
   "metadata": {},
   "outputs": [],
   "source": [
    "final.drop(['Metascore','Title','Movietemp','Year','Usa_Gross_Income','Domestic Box Office','Worldwide Box Office','International Box Office','Movie','Title','Unnamed: 0'],axis =1,inplace = True)\n"
   ]
  },
  {
   "cell_type": "markdown",
   "id": "20943a60",
   "metadata": {},
   "source": [
    "#### 3. Format standardization and conversion\n",
    "We will standardize the Date_Published column by removing all the rows which don't have full date available and then converting it to datetime format as it will be useful for time series analysis."
   ]
  },
  {
   "cell_type": "code",
   "execution_count": 15,
   "id": "8cf9cd8f",
   "metadata": {},
   "outputs": [],
   "source": [
    "final = final[final['Date_Published'].str.contains('\\d{4}-\\d{2}-\\d{2}') == True].copy()"
   ]
  },
  {
   "cell_type": "code",
   "execution_count": 16,
   "id": "750305b0",
   "metadata": {},
   "outputs": [],
   "source": [
    "final.loc[:,'Date_Published'] = pd.to_datetime(final.loc[:,'Date_Published'], format='%Y-%m-%d')"
   ]
  },
  {
   "cell_type": "markdown",
   "id": "cb368cb0",
   "metadata": {},
   "source": [
    "#### 4. Unnecessary unit removal\n",
    "We try to remove dollar sign '$' from Budget and Worlwide_Gross_Income column"
   ]
  },
  {
   "cell_type": "code",
   "execution_count": 17,
   "id": "1e3c656e",
   "metadata": {},
   "outputs": [],
   "source": [
    "# Using str.replace to filter out any non numerical values in the columsn\n",
    "pattern = '[^\\d]'\n",
    "final.loc[:,'Budget'] = final.loc[:,'Budget'].str.replace(pattern,'',regex = True)\n",
    "final.loc[:,'Worlwide_Gross_Income'] = final.loc[:,'Worlwide_Gross_Income'].str.replace(pattern,'',regex = True)"
   ]
  },
  {
   "cell_type": "markdown",
   "id": "956ba0c9",
   "metadata": {},
   "source": [
    "Then, we provide a more informative column name "
   ]
  },
  {
   "cell_type": "code",
   "execution_count": 18,
   "id": "93cdd430",
   "metadata": {},
   "outputs": [],
   "source": [
    "# Renaming the columns\n",
    "final.rename(columns = {'Budget':'Budget($)', 'Worlwide_Gross_Income':'Box_Office($)'}, inplace=True)"
   ]
  },
  {
   "cell_type": "markdown",
   "id": "51b995d7",
   "metadata": {},
   "source": [
    "## Data Analysis\n",
    "We come up with 5 questions, and solve each question in ways we think is appropriate to get some insights. "
   ]
  },
  {
   "cell_type": "markdown",
   "id": "046c05b2",
   "metadata": {},
   "source": [
    " ### Question 1:\n",
    " "
   ]
  },
  {
   "cell_type": "markdown",
   "id": "b665f2ba-5071-40db-84e4-b4ef965e7d4e",
   "metadata": {},
   "source": [
    "The following code takes the columns from the final excel and puts its into another dataframe for further use. "
   ]
  },
  {
   "cell_type": "code",
   "execution_count": 19,
   "id": "ae1dc37a",
   "metadata": {},
   "outputs": [
    {
     "data": {
      "text/html": [
       "<div>\n",
       "<style scoped>\n",
       "    .dataframe tbody tr th:only-of-type {\n",
       "        vertical-align: middle;\n",
       "    }\n",
       "\n",
       "    .dataframe tbody tr th {\n",
       "        vertical-align: top;\n",
       "    }\n",
       "\n",
       "    .dataframe thead th {\n",
       "        text-align: right;\n",
       "    }\n",
       "</style>\n",
       "<table border=\"1\" class=\"dataframe\">\n",
       "  <thead>\n",
       "    <tr style=\"text-align: right;\">\n",
       "      <th></th>\n",
       "      <th>Genre</th>\n",
       "      <th>Director</th>\n",
       "      <th>Actors</th>\n",
       "      <th>Production_Company</th>\n",
       "    </tr>\n",
       "  </thead>\n",
       "  <tbody>\n",
       "    <tr>\n",
       "      <th>0</th>\n",
       "      <td>Romance</td>\n",
       "      <td>Alexander Black</td>\n",
       "      <td>Blanche Bayliss, William Courtenay, Chauncey D...</td>\n",
       "      <td>Alexander Black Photoplays</td>\n",
       "    </tr>\n",
       "    <tr>\n",
       "      <th>1</th>\n",
       "      <td>Biography, Crime, Drama</td>\n",
       "      <td>Charles Tait</td>\n",
       "      <td>Elizabeth Tait, John Tait, Norman Campbell, Be...</td>\n",
       "      <td>J. and N. Tait</td>\n",
       "    </tr>\n",
       "    <tr>\n",
       "      <th>2</th>\n",
       "      <td>Drama</td>\n",
       "      <td>Urban Gad</td>\n",
       "      <td>Asta Nielsen, Valdemar Psilander, Gunnar Helse...</td>\n",
       "      <td>Fotorama</td>\n",
       "    </tr>\n",
       "    <tr>\n",
       "      <th>3</th>\n",
       "      <td>Drama, History</td>\n",
       "      <td>Charles L. Gaskill</td>\n",
       "      <td>Helen Gardner, Pearl Sindelar, Miss Fielding, ...</td>\n",
       "      <td>Helen Gardner Picture Players</td>\n",
       "    </tr>\n",
       "    <tr>\n",
       "      <th>4</th>\n",
       "      <td>Adventure, Drama, Fantasy</td>\n",
       "      <td>Francesco Bertolini, Adolfo Padovan</td>\n",
       "      <td>Salvatore Papa, Arturo Pirovano, Giuseppe de L...</td>\n",
       "      <td>Milano Film</td>\n",
       "    </tr>\n",
       "  </tbody>\n",
       "</table>\n",
       "</div>"
      ],
      "text/plain": [
       "                       Genre                             Director  \\\n",
       "0                    Romance                      Alexander Black   \n",
       "1    Biography, Crime, Drama                         Charles Tait   \n",
       "2                      Drama                            Urban Gad   \n",
       "3             Drama, History                   Charles L. Gaskill   \n",
       "4  Adventure, Drama, Fantasy  Francesco Bertolini, Adolfo Padovan   \n",
       "\n",
       "                                              Actors  \\\n",
       "0  Blanche Bayliss, William Courtenay, Chauncey D...   \n",
       "1  Elizabeth Tait, John Tait, Norman Campbell, Be...   \n",
       "2  Asta Nielsen, Valdemar Psilander, Gunnar Helse...   \n",
       "3  Helen Gardner, Pearl Sindelar, Miss Fielding, ...   \n",
       "4  Salvatore Papa, Arturo Pirovano, Giuseppe de L...   \n",
       "\n",
       "              Production_Company  \n",
       "0     Alexander Black Photoplays  \n",
       "1                 J. and N. Tait  \n",
       "2                       Fotorama  \n",
       "3  Helen Gardner Picture Players  \n",
       "4                    Milano Film  "
      ]
     },
     "execution_count": 19,
     "metadata": {},
     "output_type": "execute_result"
    }
   ],
   "source": [
    "gdap=final[['Genre','Director','Actors','Production_Company']]\n",
    "gdap.head()"
   ]
  },
  {
   "cell_type": "code",
   "execution_count": 20,
   "id": "4d849631",
   "metadata": {},
   "outputs": [
    {
     "data": {
      "text/html": [
       "<div>\n",
       "<style scoped>\n",
       "    .dataframe tbody tr th:only-of-type {\n",
       "        vertical-align: middle;\n",
       "    }\n",
       "\n",
       "    .dataframe tbody tr th {\n",
       "        vertical-align: top;\n",
       "    }\n",
       "\n",
       "    .dataframe thead th {\n",
       "        text-align: right;\n",
       "    }\n",
       "</style>\n",
       "<table border=\"1\" class=\"dataframe\">\n",
       "  <thead>\n",
       "    <tr style=\"text-align: right;\">\n",
       "      <th></th>\n",
       "      <th>Genre</th>\n",
       "    </tr>\n",
       "    <tr>\n",
       "      <th>Director</th>\n",
       "      <th></th>\n",
       "    </tr>\n",
       "  </thead>\n",
       "  <tbody>\n",
       "    <tr>\n",
       "      <th>Michael Curtiz</th>\n",
       "      <td>86</td>\n",
       "    </tr>\n",
       "    <tr>\n",
       "      <th>Lesley Selander</th>\n",
       "      <td>77</td>\n",
       "    </tr>\n",
       "    <tr>\n",
       "      <th>William Beaudine</th>\n",
       "      <td>71</td>\n",
       "    </tr>\n",
       "    <tr>\n",
       "      <th>Jesús Franco</th>\n",
       "      <td>70</td>\n",
       "    </tr>\n",
       "  </tbody>\n",
       "</table>\n",
       "</div>"
      ],
      "text/plain": [
       "                  Genre\n",
       "Director               \n",
       "Michael Curtiz       86\n",
       "Lesley Selander      77\n",
       "William Beaudine     71\n",
       "Jesús Franco         70"
      ]
     },
     "execution_count": 20,
     "metadata": {},
     "output_type": "execute_result"
    }
   ],
   "source": [
    "directgenre= gdap.groupby(by='Director')['Genre'].count().sort_values(ascending=False).head(4)\n",
    "pd.DataFrame(directgenre) #this code combines the directors and genres columns \n",
    "#and shows the top 4 directors"
   ]
  },
  {
   "cell_type": "markdown",
   "id": "fb0238da",
   "metadata": {},
   "source": [
    "From this dataframe, it can be seen that the director, Michael Curtiz, produces the most genres of movies."
   ]
  },
  {
   "cell_type": "code",
   "execution_count": 21,
   "id": "addd883f",
   "metadata": {},
   "outputs": [
    {
     "data": {
      "image/png": "[encoded data removed]",
      "text/plain": [
       "<Figure size 432x288 with 1 Axes>"
      ]
     },
     "metadata": {
      "needs_background": "light"
     },
     "output_type": "display_data"
    }
   ],
   "source": [
    "sns.barplot(x=directgenre.index, y= directgenre.values);"
   ]
  },
  {
   "cell_type": "markdown",
   "id": "ac4d05ac",
   "metadata": {},
   "source": [
    "Inference: These 4 directors have higher viewer rates because they produce the most variety of movies. Each customer is different which means each customer likes to watch different genres of movies. By a director producing many genres of movies they can capture more of an audience which leads to more money being made and a high viewer rate. This does not nesscessarily mean that the movies has to be good and rated high in terms of quality. This just means more people watch their movies since they have movies in many different genres."
   ]
  },
  {
   "cell_type": "markdown",
   "id": "e83e3a03",
   "metadata": {},
   "source": [
    "### Question 2: \n",
    "We will analyze the trend of movie languages by years."
   ]
  },
  {
   "cell_type": "code",
   "execution_count": 22,
   "id": "0c02f1f8-4764-4028-be10-8faafb789d83",
   "metadata": {},
   "outputs": [],
   "source": [
    "#get a series of all the movie production year\n",
    "year = final['Date_Published'].dt.year\n",
    "#get a series of all the languages of the movies\n",
    "language = final['Language']\n",
    "#create a new dataframe with the years and languages extracted from the original dataframe\n",
    "df_language = pd.DataFrame({'language':language,\n",
    "                   'year':year})\n",
    "#drop all the missing values from the new dataframe\n",
    "df_language = df_language.dropna()"
   ]
  },
  {
   "cell_type": "code",
   "execution_count": 23,
   "id": "9f3be779-8cd9-401a-b40c-4ae688e8bbd8",
   "metadata": {},
   "outputs": [
    {
     "data": {
      "text/plain": [
       "English                                35315\n",
       "French                                  3864\n",
       "Japanese                                2775\n",
       "Spanish                                 2774\n",
       "Italian                                 2687\n",
       "                                       ...  \n",
       "English, Japanese, Italian, Spanish        1\n",
       "Norwegian, English, Swedish, Saami         1\n",
       "Spanish, Hebrew, Ladino                    1\n",
       "German, Japanese, English                  1\n",
       "German, Swiss German, Afrikaans            1\n",
       "Name: language, Length: 4299, dtype: int64"
      ]
     },
     "execution_count": 23,
     "metadata": {},
     "output_type": "execute_result"
    }
   ],
   "source": [
    "#count the amount of movies produced in different languages\n",
    "df_language['language'].value_counts()"
   ]
  },
  {
   "cell_type": "markdown",
   "id": "205d9c18-1eb0-4a26-900e-dab42c12749b",
   "metadata": {},
   "source": [
    "We will exclude the movies produced in English for the following analysis, since it is too obvious that the majority of movies are spoken in English. We will examine the result of the other top languages. "
   ]
  },
  {
   "cell_type": "markdown",
   "id": "ba9e77c5-c44d-4923-a546-70bb1c3bea21",
   "metadata": {},
   "source": [
    "Some movies have more than one language, so we need to split the multi-languages values."
   ]
  },
  {
   "cell_type": "code",
   "execution_count": 24,
   "id": "0166d51d-b0e9-45ee-9cb2-efafbd44bcdf",
   "metadata": {},
   "outputs": [],
   "source": [
    "#splitting the multi-languages values by a coma followed by a space and give it an index of the year\n",
    "df_language = pd.DataFrame(df_language['language'].str.split(', ').to_list(), index = df_language['year']).stack()"
   ]
  },
  {
   "cell_type": "code",
   "execution_count": 25,
   "id": "547e625d-8fc2-4961-807a-158c880c354a",
   "metadata": {},
   "outputs": [],
   "source": [
    "#reset the index\n",
    "df_language = df_language.reset_index('year')"
   ]
  },
  {
   "cell_type": "code",
   "execution_count": 26,
   "id": "983b439c-d050-475c-8a91-61703296ce71",
   "metadata": {},
   "outputs": [],
   "source": [
    "#give df_language columns of year and language\n",
    "df_language.columns = ['year','language']"
   ]
  },
  {
   "cell_type": "code",
   "execution_count": 27,
   "id": "906393f7-f87d-42b4-85d7-b21a7958720f",
   "metadata": {},
   "outputs": [
    {
     "data": {
      "text/html": [
       "<div>\n",
       "<style scoped>\n",
       "    .dataframe tbody tr th:only-of-type {\n",
       "        vertical-align: middle;\n",
       "    }\n",
       "\n",
       "    .dataframe tbody tr th {\n",
       "        vertical-align: top;\n",
       "    }\n",
       "\n",
       "    .dataframe thead th {\n",
       "        text-align: right;\n",
       "    }\n",
       "</style>\n",
       "<table border=\"1\" class=\"dataframe\">\n",
       "  <thead>\n",
       "    <tr style=\"text-align: right;\">\n",
       "      <th></th>\n",
       "      <th>year</th>\n",
       "      <th>language</th>\n",
       "      <th>count</th>\n",
       "    </tr>\n",
       "  </thead>\n",
       "  <tbody>\n",
       "    <tr>\n",
       "      <th>0</th>\n",
       "      <td>1894</td>\n",
       "      <td>None</td>\n",
       "      <td>1</td>\n",
       "    </tr>\n",
       "    <tr>\n",
       "      <th>1</th>\n",
       "      <td>1906</td>\n",
       "      <td>None</td>\n",
       "      <td>1</td>\n",
       "    </tr>\n",
       "    <tr>\n",
       "      <th>2</th>\n",
       "      <td>1911</td>\n",
       "      <td>Italian</td>\n",
       "      <td>1</td>\n",
       "    </tr>\n",
       "    <tr>\n",
       "      <th>3</th>\n",
       "      <td>1912</td>\n",
       "      <td>English</td>\n",
       "      <td>2</td>\n",
       "    </tr>\n",
       "    <tr>\n",
       "      <th>4</th>\n",
       "      <td>1912</td>\n",
       "      <td>French</td>\n",
       "      <td>1</td>\n",
       "    </tr>\n",
       "    <tr>\n",
       "      <th>...</th>\n",
       "      <td>...</td>\n",
       "      <td>...</td>\n",
       "      <td>...</td>\n",
       "    </tr>\n",
       "    <tr>\n",
       "      <th>5007</th>\n",
       "      <td>2020</td>\n",
       "      <td>Ukrainian</td>\n",
       "      <td>10</td>\n",
       "    </tr>\n",
       "    <tr>\n",
       "      <th>5008</th>\n",
       "      <td>2020</td>\n",
       "      <td>Vietnamese</td>\n",
       "      <td>3</td>\n",
       "    </tr>\n",
       "    <tr>\n",
       "      <th>5009</th>\n",
       "      <td>2020</td>\n",
       "      <td>Welsh</td>\n",
       "      <td>1</td>\n",
       "    </tr>\n",
       "    <tr>\n",
       "      <th>5010</th>\n",
       "      <td>2020</td>\n",
       "      <td>Yiddish</td>\n",
       "      <td>3</td>\n",
       "    </tr>\n",
       "    <tr>\n",
       "      <th>5011</th>\n",
       "      <td>2021</td>\n",
       "      <td>English</td>\n",
       "      <td>5</td>\n",
       "    </tr>\n",
       "  </tbody>\n",
       "</table>\n",
       "<p>5012 rows × 3 columns</p>\n",
       "</div>"
      ],
      "text/plain": [
       "      year    language  count\n",
       "0     1894        None      1\n",
       "1     1906        None      1\n",
       "2     1911     Italian      1\n",
       "3     1912     English      2\n",
       "4     1912      French      1\n",
       "...    ...         ...    ...\n",
       "5007  2020   Ukrainian     10\n",
       "5008  2020  Vietnamese      3\n",
       "5009  2020       Welsh      1\n",
       "5010  2020     Yiddish      3\n",
       "5011  2021     English      5\n",
       "\n",
       "[5012 rows x 3 columns]"
      ]
     },
     "execution_count": 27,
     "metadata": {},
     "output_type": "execute_result"
    }
   ],
   "source": [
    "#group by both the year and the language, and count how many movies are produced in that specific language, in that year\n",
    "df_lan_final = df_language.reset_index().groupby(['year','language'], as_index=False).count().rename(columns={'index':'count'})\n",
    "df_lan_final"
   ]
  },
  {
   "cell_type": "markdown",
   "id": "ee08f55b-f5ab-4e02-8eee-69e32145eeca",
   "metadata": {},
   "source": [
    "Since we just want to look at the top 3 languages other than English, we split each language into an individual dataframes"
   ]
  },
  {
   "cell_type": "code",
   "execution_count": 28,
   "id": "a361d99b-54c5-4bb3-8392-82a6dbca56d5",
   "metadata": {},
   "outputs": [],
   "source": [
    "#get the data for movies produced in French only\n",
    "test_French = df_lan_final[df_lan_final['language'] == 'French']\n",
    "#get the data for movies produced in Japanese only\n",
    "test_Italian = df_lan_final[df_lan_final['language'] == 'Italian']\n",
    "#get the data for movies produced in Spanish only\n",
    "test_Spanish = df_lan_final[df_lan_final['language'] == 'Spanish']"
   ]
  },
  {
   "cell_type": "code",
   "execution_count": 29,
   "id": "2e327bef-5f61-45c0-bc1c-2c7ea1ea3122",
   "metadata": {},
   "outputs": [
    {
     "data": {
      "text/plain": [
       "Text(0.5, 1.0, 'The Amount of Movies Produced in Different Languages Over Time')"
      ]
     },
     "execution_count": 29,
     "metadata": {},
     "output_type": "execute_result"
    },
    {
     "data": {
      "image/png": "[encoded data removed]",
      "text/plain": [
       "<Figure size 1008x576 with 1 Axes>"
      ]
     },
     "metadata": {
      "needs_background": "light"
     },
     "output_type": "display_data"
    }
   ],
   "source": [
    "#create an empty plot first\n",
    "fig, ax = plt.subplots(figsize=(14, 8))\n",
    "#plot three lines for each language\n",
    "plt.plot(test_French['year'], test_French['count'], label='French', color='sienna')\n",
    "plt.plot(test_Italian['year'], test_Italian['count'], label='Italian', color='green')\n",
    "plt.plot(test_Spanish['year'], test_Spanish['count'], label='Spanish', color='blue', linewidth=2)\n",
    "#give the x-axis a label\n",
    "plt.xlabel('Year', fontsize=15)\n",
    "#give the y-axis a label\n",
    "plt.ylabel('The Amount of Movies Produced', fontsize=18)\n",
    "#give the plot a legend\n",
    "plt.legend(prop={'size': 15})\n",
    "#give the plot a title\n",
    "ax.set_title('The Amount of Movies Produced in Different Languages Over Time', fontsize=20)"
   ]
  },
  {
   "cell_type": "markdown",
   "id": "a4a47cb4-901f-4ace-b124-fb1c588421ae",
   "metadata": {},
   "source": [
    "**Observation 1**: In general, the amounts of movies produced for all three languages have graudally increased since 1960s. Moreover, the total amounts of movie produced for all three have experienced a rapidly increase in the 2000s. The amounts for them are at least twice the amount of the previous decades.\n",
    "\n",
    "**Inference 1**:  Based on the observation, we can infer that the movie industry is heavily influenced by the world economic. In the 1960s and especially the beginning of 2000s, while the amounts of movie produced have increased rapidly, the world economic is also growing dramatically. It is reasonanle since the movie industry is an entertainment industry, which is more likely to be affected by the income people make and overall economics, compared to the industries of the necessity goods. The movie industry is more likely to get investments from the governments and private companies when the economic is considered to be healthy or good. As a result, investers for the movie industry should pay careful attentions to the trend of the economics. By anticipating how the overall economic is going to be, investers can predict how well the movie industry is likely to perform.  \n",
    "\n",
    "**Observation 2**: From the time series graph, we can see that French movies have expanded rapidly from 1920 to 2020 among all the other languages, except for English movies. In fact, according to the previous calculations, we can see that the total amount of movies produced in French, which is 8212, is acutally roughly 3000 more than the Spanish movies, which is the second highest lagnuage.\n",
    "\n",
    "**Inference 2**: According to what we found in this observation, we can infer that there is a lot of potential to growth in the French movie markets. Production companies or directors should look into what has made the French movie successful worldwide and how to make it even more popular to the world. Since the majority of the movies are still produced in English, if the production companies or directors can catch the French movie market, they are likely to get a significant share of the market. \n",
    "\n",
    "**Observation 3**: By looking at the graph, we can see that the Italian movie has once dominated the other languages by the amount in the 1960s, but it has dropped severely in the 1980s. Even though it has gradually grown after the 2000s, the growth rate of the Italian movies has not catched up the other two. \n",
    "\n",
    "**Inference 3**: What we have observed for the trend of the Italian movie is corresponding to the rise and fall of the Italian cinema industry. In the 1960s, due to the introduction of giallo horror films and Poliziotteschi films, the Italian movie has gained a lot popularity and even reached its peak. Unfortunately, the rise does not last for too long. While Hollywood is devoted in the revolution in the special effects, the Italian movie industry is not abled to keep up the pace. Since the genres that the Italian movies are popular with heavily rely on the special effects, such as the giallo horror films, this revolution has greatly striken the Italian cinema industry. As a result, from this inference, we learn that technology has a big influence in the movie industry. With a good use of the techonology, no matter the special effects or other technical applications, movies are more likely to gain popularity. "
   ]
  },
  {
   "cell_type": "markdown",
   "id": "a701cb11",
   "metadata": {},
   "source": [
    "### Question 3: \n",
    "We will analyze the relationships between Box Office Return among Actors and Genres.  "
   ]
  },
  {
   "cell_type": "code",
   "execution_count": 30,
   "id": "bd26c9fb",
   "metadata": {},
   "outputs": [],
   "source": [
    "## change to float type\n",
    "final_shen = final.astype({'Box_Office($)': float})\n",
    "\n",
    "## fill NAN avtor values with 'unknown'\n",
    "final_shen['Actors'].fillna(value='unknown', inplace=True)\n",
    "final_shen.drop_duplicates(subset=['Imdb_Title_Id'], inplace=True)"
   ]
  },
  {
   "cell_type": "markdown",
   "id": "f3433345",
   "metadata": {},
   "source": [
    "Convert Actor list element to rows:"
   ]
  },
  {
   "cell_type": "code",
   "execution_count": 31,
   "id": "a4faa203",
   "metadata": {},
   "outputs": [
    {
     "data": {
      "text/html": [
       "<div>\n",
       "<style scoped>\n",
       "    .dataframe tbody tr th:only-of-type {\n",
       "        vertical-align: middle;\n",
       "    }\n",
       "\n",
       "    .dataframe tbody tr th {\n",
       "        vertical-align: top;\n",
       "    }\n",
       "\n",
       "    .dataframe thead th {\n",
       "        text-align: right;\n",
       "    }\n",
       "</style>\n",
       "<table border=\"1\" class=\"dataframe\">\n",
       "  <thead>\n",
       "    <tr style=\"text-align: right;\">\n",
       "      <th></th>\n",
       "      <th>Imdb_Title_Id</th>\n",
       "      <th>Actors</th>\n",
       "    </tr>\n",
       "  </thead>\n",
       "  <tbody>\n",
       "    <tr>\n",
       "      <th>0</th>\n",
       "      <td>tt0000009</td>\n",
       "      <td>Blanche Bayliss</td>\n",
       "    </tr>\n",
       "    <tr>\n",
       "      <th>1</th>\n",
       "      <td>tt0000009</td>\n",
       "      <td>William Courtenay</td>\n",
       "    </tr>\n",
       "    <tr>\n",
       "      <th>2</th>\n",
       "      <td>tt0000009</td>\n",
       "      <td>Chauncey Depew</td>\n",
       "    </tr>\n",
       "    <tr>\n",
       "      <th>0</th>\n",
       "      <td>tt0000574</td>\n",
       "      <td>Elizabeth Tait</td>\n",
       "    </tr>\n",
       "    <tr>\n",
       "      <th>1</th>\n",
       "      <td>tt0000574</td>\n",
       "      <td>John Tait</td>\n",
       "    </tr>\n",
       "    <tr>\n",
       "      <th>...</th>\n",
       "      <td>...</td>\n",
       "      <td>...</td>\n",
       "    </tr>\n",
       "    <tr>\n",
       "      <th>10</th>\n",
       "      <td>tt9914942</td>\n",
       "      <td>Arés Fuster</td>\n",
       "    </tr>\n",
       "    <tr>\n",
       "      <th>11</th>\n",
       "      <td>tt9914942</td>\n",
       "      <td>Judit Martín</td>\n",
       "    </tr>\n",
       "    <tr>\n",
       "      <th>12</th>\n",
       "      <td>tt9914942</td>\n",
       "      <td>Martí Múrcia</td>\n",
       "    </tr>\n",
       "    <tr>\n",
       "      <th>13</th>\n",
       "      <td>tt9914942</td>\n",
       "      <td>Mariona Pagès</td>\n",
       "    </tr>\n",
       "    <tr>\n",
       "      <th>14</th>\n",
       "      <td>tt9914942</td>\n",
       "      <td>Francesca Piñón</td>\n",
       "    </tr>\n",
       "  </tbody>\n",
       "</table>\n",
       "<p>1096965 rows × 2 columns</p>\n",
       "</div>"
      ],
      "text/plain": [
       "   Imdb_Title_Id             Actors\n",
       "0      tt0000009    Blanche Bayliss\n",
       "1      tt0000009  William Courtenay\n",
       "2      tt0000009     Chauncey Depew\n",
       "0      tt0000574     Elizabeth Tait\n",
       "1      tt0000574          John Tait\n",
       "..           ...                ...\n",
       "10     tt9914942        Arés Fuster\n",
       "11     tt9914942       Judit Martín\n",
       "12     tt9914942       Martí Múrcia\n",
       "13     tt9914942      Mariona Pagès\n",
       "14     tt9914942    Francesca Piñón\n",
       "\n",
       "[1096965 rows x 2 columns]"
      ]
     },
     "execution_count": 31,
     "metadata": {},
     "output_type": "execute_result"
    }
   ],
   "source": [
    "df_actors = pd.DataFrame(final_shen['Actors'].str.split(', ').to_list(), index = final_shen['Imdb_Title_Id']).stack()\n",
    "df_actors = df_actors.reset_index(['Imdb_Title_Id'])\n",
    "df_actors.columns = ['Imdb_Title_Id','Actors']\n",
    "df_actors"
   ]
  },
  {
   "cell_type": "markdown",
   "id": "a558ce93",
   "metadata": {},
   "source": [
    "Convert Genre list element to rows:"
   ]
  },
  {
   "cell_type": "code",
   "execution_count": 32,
   "id": "127dc1ae",
   "metadata": {},
   "outputs": [
    {
     "data": {
      "text/html": [
       "<div>\n",
       "<style scoped>\n",
       "    .dataframe tbody tr th:only-of-type {\n",
       "        vertical-align: middle;\n",
       "    }\n",
       "\n",
       "    .dataframe tbody tr th {\n",
       "        vertical-align: top;\n",
       "    }\n",
       "\n",
       "    .dataframe thead th {\n",
       "        text-align: right;\n",
       "    }\n",
       "</style>\n",
       "<table border=\"1\" class=\"dataframe\">\n",
       "  <thead>\n",
       "    <tr style=\"text-align: right;\">\n",
       "      <th></th>\n",
       "      <th>Imdb_Title_Id</th>\n",
       "      <th>Genre</th>\n",
       "    </tr>\n",
       "  </thead>\n",
       "  <tbody>\n",
       "    <tr>\n",
       "      <th>0</th>\n",
       "      <td>tt0000009</td>\n",
       "      <td>Romance</td>\n",
       "    </tr>\n",
       "    <tr>\n",
       "      <th>0</th>\n",
       "      <td>tt0000574</td>\n",
       "      <td>Biography</td>\n",
       "    </tr>\n",
       "    <tr>\n",
       "      <th>1</th>\n",
       "      <td>tt0000574</td>\n",
       "      <td>Crime</td>\n",
       "    </tr>\n",
       "    <tr>\n",
       "      <th>2</th>\n",
       "      <td>tt0000574</td>\n",
       "      <td>Drama</td>\n",
       "    </tr>\n",
       "    <tr>\n",
       "      <th>0</th>\n",
       "      <td>tt0001892</td>\n",
       "      <td>Drama</td>\n",
       "    </tr>\n",
       "    <tr>\n",
       "      <th>...</th>\n",
       "      <td>...</td>\n",
       "      <td>...</td>\n",
       "    </tr>\n",
       "    <tr>\n",
       "      <th>1</th>\n",
       "      <td>tt9911196</td>\n",
       "      <td>Drama</td>\n",
       "    </tr>\n",
       "    <tr>\n",
       "      <th>0</th>\n",
       "      <td>tt9911774</td>\n",
       "      <td>Drama</td>\n",
       "    </tr>\n",
       "    <tr>\n",
       "      <th>0</th>\n",
       "      <td>tt9914286</td>\n",
       "      <td>Drama</td>\n",
       "    </tr>\n",
       "    <tr>\n",
       "      <th>1</th>\n",
       "      <td>tt9914286</td>\n",
       "      <td>Family</td>\n",
       "    </tr>\n",
       "    <tr>\n",
       "      <th>0</th>\n",
       "      <td>tt9914942</td>\n",
       "      <td>Drama</td>\n",
       "    </tr>\n",
       "  </tbody>\n",
       "</table>\n",
       "<p>167210 rows × 2 columns</p>\n",
       "</div>"
      ],
      "text/plain": [
       "   Imdb_Title_Id      Genre\n",
       "0      tt0000009    Romance\n",
       "0      tt0000574  Biography\n",
       "1      tt0000574      Crime\n",
       "2      tt0000574      Drama\n",
       "0      tt0001892      Drama\n",
       "..           ...        ...\n",
       "1      tt9911196      Drama\n",
       "0      tt9911774      Drama\n",
       "0      tt9914286      Drama\n",
       "1      tt9914286     Family\n",
       "0      tt9914942      Drama\n",
       "\n",
       "[167210 rows x 2 columns]"
      ]
     },
     "execution_count": 32,
     "metadata": {},
     "output_type": "execute_result"
    }
   ],
   "source": [
    "df_genre = pd.DataFrame(final_shen['Genre'].str.split(', ').to_list(), index = final_shen['Imdb_Title_Id']).stack()\n",
    "df_genre = df_genre.reset_index(['Imdb_Title_Id'])\n",
    "df_genre.columns = ['Imdb_Title_Id','Genre']\n",
    "df_genre"
   ]
  },
  {
   "cell_type": "markdown",
   "id": "5a5facfd",
   "metadata": {},
   "source": [
    "Then, we try to add box office to actor table to perform further analysis."
   ]
  },
  {
   "cell_type": "code",
   "execution_count": 33,
   "id": "cdd9d726",
   "metadata": {},
   "outputs": [
    {
     "data": {
      "text/html": [
       "<div>\n",
       "<style scoped>\n",
       "    .dataframe tbody tr th:only-of-type {\n",
       "        vertical-align: middle;\n",
       "    }\n",
       "\n",
       "    .dataframe tbody tr th {\n",
       "        vertical-align: top;\n",
       "    }\n",
       "\n",
       "    .dataframe thead th {\n",
       "        text-align: right;\n",
       "    }\n",
       "</style>\n",
       "<table border=\"1\" class=\"dataframe\">\n",
       "  <thead>\n",
       "    <tr style=\"text-align: right;\">\n",
       "      <th></th>\n",
       "      <th>Imdb_Title_Id</th>\n",
       "      <th>Actors</th>\n",
       "      <th>Box_Office($)</th>\n",
       "    </tr>\n",
       "  </thead>\n",
       "  <tbody>\n",
       "    <tr>\n",
       "      <th>0</th>\n",
       "      <td>tt0000009</td>\n",
       "      <td>Blanche Bayliss</td>\n",
       "      <td>NaN</td>\n",
       "    </tr>\n",
       "    <tr>\n",
       "      <th>1</th>\n",
       "      <td>tt0000009</td>\n",
       "      <td>William Courtenay</td>\n",
       "      <td>NaN</td>\n",
       "    </tr>\n",
       "    <tr>\n",
       "      <th>2</th>\n",
       "      <td>tt0000009</td>\n",
       "      <td>Chauncey Depew</td>\n",
       "      <td>NaN</td>\n",
       "    </tr>\n",
       "    <tr>\n",
       "      <th>3</th>\n",
       "      <td>tt0000574</td>\n",
       "      <td>Elizabeth Tait</td>\n",
       "      <td>NaN</td>\n",
       "    </tr>\n",
       "    <tr>\n",
       "      <th>4</th>\n",
       "      <td>tt0000574</td>\n",
       "      <td>John Tait</td>\n",
       "      <td>NaN</td>\n",
       "    </tr>\n",
       "    <tr>\n",
       "      <th>...</th>\n",
       "      <td>...</td>\n",
       "      <td>...</td>\n",
       "      <td>...</td>\n",
       "    </tr>\n",
       "    <tr>\n",
       "      <th>1096960</th>\n",
       "      <td>tt9914942</td>\n",
       "      <td>Arés Fuster</td>\n",
       "      <td>59794.0</td>\n",
       "    </tr>\n",
       "    <tr>\n",
       "      <th>1096961</th>\n",
       "      <td>tt9914942</td>\n",
       "      <td>Judit Martín</td>\n",
       "      <td>59794.0</td>\n",
       "    </tr>\n",
       "    <tr>\n",
       "      <th>1096962</th>\n",
       "      <td>tt9914942</td>\n",
       "      <td>Martí Múrcia</td>\n",
       "      <td>59794.0</td>\n",
       "    </tr>\n",
       "    <tr>\n",
       "      <th>1096963</th>\n",
       "      <td>tt9914942</td>\n",
       "      <td>Mariona Pagès</td>\n",
       "      <td>59794.0</td>\n",
       "    </tr>\n",
       "    <tr>\n",
       "      <th>1096964</th>\n",
       "      <td>tt9914942</td>\n",
       "      <td>Francesca Piñón</td>\n",
       "      <td>59794.0</td>\n",
       "    </tr>\n",
       "  </tbody>\n",
       "</table>\n",
       "<p>1096965 rows × 3 columns</p>\n",
       "</div>"
      ],
      "text/plain": [
       "        Imdb_Title_Id             Actors  Box_Office($)\n",
       "0           tt0000009    Blanche Bayliss            NaN\n",
       "1           tt0000009  William Courtenay            NaN\n",
       "2           tt0000009     Chauncey Depew            NaN\n",
       "3           tt0000574     Elizabeth Tait            NaN\n",
       "4           tt0000574          John Tait            NaN\n",
       "...               ...                ...            ...\n",
       "1096960     tt9914942        Arés Fuster        59794.0\n",
       "1096961     tt9914942       Judit Martín        59794.0\n",
       "1096962     tt9914942       Martí Múrcia        59794.0\n",
       "1096963     tt9914942      Mariona Pagès        59794.0\n",
       "1096964     tt9914942    Francesca Piñón        59794.0\n",
       "\n",
       "[1096965 rows x 3 columns]"
      ]
     },
     "execution_count": 33,
     "metadata": {},
     "output_type": "execute_result"
    }
   ],
   "source": [
    "df_actors_vote_box = df_actors.merge(final_shen[['Imdb_Title_Id','Box_Office($)']], how='left', on='Imdb_Title_Id')\n",
    "df_actors_vote_box"
   ]
  },
  {
   "cell_type": "markdown",
   "id": "6bcda51a",
   "metadata": {},
   "source": [
    "We only care about those actors with known box office data"
   ]
  },
  {
   "cell_type": "code",
   "execution_count": 34,
   "id": "6722f6ce",
   "metadata": {},
   "outputs": [],
   "source": [
    "df_actors_vote_box = df_actors_vote_box[df_actors_vote_box['Box_Office($)'].notna()]"
   ]
  },
  {
   "cell_type": "markdown",
   "id": "c190c1b5",
   "metadata": {},
   "source": [
    "Calculate the total box office created by each actor."
   ]
  },
  {
   "cell_type": "code",
   "execution_count": 35,
   "id": "fd917d0d",
   "metadata": {},
   "outputs": [
    {
     "data": {
      "text/plain": [
       "Actors\n",
       "Samuel L. Jackson     1.821119e+10\n",
       "Robert Downey Jr.     1.520537e+10\n",
       "Scarlett Johansson    1.450663e+10\n",
       "Dwayne Johnson        1.193922e+10\n",
       "Chris Evans           1.150032e+10\n",
       "Chris Hemsworth       1.147909e+10\n",
       "Zoe Saldana           1.144682e+10\n",
       "Paul Bettany          1.113560e+10\n",
       "Mark Ruffalo          1.095744e+10\n",
       "Tom Hanks             1.081401e+10\n",
       "Name: Box_Office($), dtype: float64"
      ]
     },
     "execution_count": 35,
     "metadata": {},
     "output_type": "execute_result"
    }
   ],
   "source": [
    "df_actors_vote_box.groupby('Actors')['Box_Office($)'].sum().sort_values(ascending = False).head(10)"
   ]
  },
  {
   "cell_type": "markdown",
   "id": "686e02ca",
   "metadata": {},
   "source": [
    "We can see top 10 actors that creates the highest total Box Office. "
   ]
  },
  {
   "cell_type": "markdown",
   "id": "828ce85a",
   "metadata": {},
   "source": [
    "Now, let us add genere to the table."
   ]
  },
  {
   "cell_type": "code",
   "execution_count": 36,
   "id": "de1a5909",
   "metadata": {},
   "outputs": [
    {
     "data": {
      "text/html": [
       "<div>\n",
       "<style scoped>\n",
       "    .dataframe tbody tr th:only-of-type {\n",
       "        vertical-align: middle;\n",
       "    }\n",
       "\n",
       "    .dataframe tbody tr th {\n",
       "        vertical-align: top;\n",
       "    }\n",
       "\n",
       "    .dataframe thead th {\n",
       "        text-align: right;\n",
       "    }\n",
       "</style>\n",
       "<table border=\"1\" class=\"dataframe\">\n",
       "  <thead>\n",
       "    <tr style=\"text-align: right;\">\n",
       "      <th></th>\n",
       "      <th>Imdb_Title_Id</th>\n",
       "      <th>Actors</th>\n",
       "      <th>Box_Office($)</th>\n",
       "      <th>Genre</th>\n",
       "    </tr>\n",
       "  </thead>\n",
       "  <tbody>\n",
       "    <tr>\n",
       "      <th>0</th>\n",
       "      <td>tt0002101</td>\n",
       "      <td>Helen Gardner</td>\n",
       "      <td>71000000.0</td>\n",
       "      <td>Drama</td>\n",
       "    </tr>\n",
       "    <tr>\n",
       "      <th>1</th>\n",
       "      <td>tt0002101</td>\n",
       "      <td>Helen Gardner</td>\n",
       "      <td>71000000.0</td>\n",
       "      <td>History</td>\n",
       "    </tr>\n",
       "    <tr>\n",
       "      <th>2</th>\n",
       "      <td>tt0002101</td>\n",
       "      <td>Pearl Sindelar</td>\n",
       "      <td>71000000.0</td>\n",
       "      <td>Drama</td>\n",
       "    </tr>\n",
       "    <tr>\n",
       "      <th>3</th>\n",
       "      <td>tt0002101</td>\n",
       "      <td>Pearl Sindelar</td>\n",
       "      <td>71000000.0</td>\n",
       "      <td>History</td>\n",
       "    </tr>\n",
       "    <tr>\n",
       "      <th>4</th>\n",
       "      <td>tt0002101</td>\n",
       "      <td>Miss Fielding</td>\n",
       "      <td>71000000.0</td>\n",
       "      <td>Drama</td>\n",
       "    </tr>\n",
       "    <tr>\n",
       "      <th>...</th>\n",
       "      <td>...</td>\n",
       "      <td>...</td>\n",
       "      <td>...</td>\n",
       "      <td>...</td>\n",
       "    </tr>\n",
       "    <tr>\n",
       "      <th>1046805</th>\n",
       "      <td>tt9914942</td>\n",
       "      <td>Arés Fuster</td>\n",
       "      <td>59794.0</td>\n",
       "      <td>Drama</td>\n",
       "    </tr>\n",
       "    <tr>\n",
       "      <th>1046806</th>\n",
       "      <td>tt9914942</td>\n",
       "      <td>Judit Martín</td>\n",
       "      <td>59794.0</td>\n",
       "      <td>Drama</td>\n",
       "    </tr>\n",
       "    <tr>\n",
       "      <th>1046807</th>\n",
       "      <td>tt9914942</td>\n",
       "      <td>Martí Múrcia</td>\n",
       "      <td>59794.0</td>\n",
       "      <td>Drama</td>\n",
       "    </tr>\n",
       "    <tr>\n",
       "      <th>1046808</th>\n",
       "      <td>tt9914942</td>\n",
       "      <td>Mariona Pagès</td>\n",
       "      <td>59794.0</td>\n",
       "      <td>Drama</td>\n",
       "    </tr>\n",
       "    <tr>\n",
       "      <th>1046809</th>\n",
       "      <td>tt9914942</td>\n",
       "      <td>Francesca Piñón</td>\n",
       "      <td>59794.0</td>\n",
       "      <td>Drama</td>\n",
       "    </tr>\n",
       "  </tbody>\n",
       "</table>\n",
       "<p>1046810 rows × 4 columns</p>\n",
       "</div>"
      ],
      "text/plain": [
       "        Imdb_Title_Id           Actors  Box_Office($)    Genre\n",
       "0           tt0002101    Helen Gardner     71000000.0    Drama\n",
       "1           tt0002101    Helen Gardner     71000000.0  History\n",
       "2           tt0002101   Pearl Sindelar     71000000.0    Drama\n",
       "3           tt0002101   Pearl Sindelar     71000000.0  History\n",
       "4           tt0002101    Miss Fielding     71000000.0    Drama\n",
       "...               ...              ...            ...      ...\n",
       "1046805     tt9914942      Arés Fuster        59794.0    Drama\n",
       "1046806     tt9914942     Judit Martín        59794.0    Drama\n",
       "1046807     tt9914942     Martí Múrcia        59794.0    Drama\n",
       "1046808     tt9914942    Mariona Pagès        59794.0    Drama\n",
       "1046809     tt9914942  Francesca Piñón        59794.0    Drama\n",
       "\n",
       "[1046810 rows x 4 columns]"
      ]
     },
     "execution_count": 36,
     "metadata": {},
     "output_type": "execute_result"
    }
   ],
   "source": [
    "df_actors_vote_box_genre = df_actors_vote_box.merge(df_genre, how='left', on='Imdb_Title_Id')\n",
    "df_actors_vote_box_genre"
   ]
  },
  {
   "cell_type": "markdown",
   "id": "d2485b26",
   "metadata": {},
   "source": [
    "We try to find out the most popular actors in each genre in terms of box office."
   ]
  },
  {
   "cell_type": "code",
   "execution_count": 37,
   "id": "8b4f8659",
   "metadata": {},
   "outputs": [],
   "source": [
    "df_group_genre_actor = df_actors_vote_box_genre.groupby(by=['Genre','Actors'])['Box_Office($)'].sum()"
   ]
  },
  {
   "cell_type": "markdown",
   "id": "1017b362",
   "metadata": {},
   "source": [
    "Let us display top 3 actors for each genre. "
   ]
  },
  {
   "cell_type": "code",
   "execution_count": 38,
   "id": "2d855d84",
   "metadata": {},
   "outputs": [],
   "source": [
    "df_group_genre_actor_top3 = pd.DataFrame(df_group_genre_actor.groupby(level='Genre').nlargest(3).reset_index(level=0, drop=True))\n"
   ]
  },
  {
   "cell_type": "markdown",
   "id": "9e7c5a0e",
   "metadata": {},
   "source": [
    "In order to display all rows, we use `set_option` to do so"
   ]
  },
  {
   "cell_type": "code",
   "execution_count": 39,
   "id": "ecaee114",
   "metadata": {},
   "outputs": [],
   "source": [
    "pd.set_option('display.max_rows', len(df_group_genre_actor_top3))"
   ]
  },
  {
   "cell_type": "code",
   "execution_count": 40,
   "id": "0c95b6d5",
   "metadata": {},
   "outputs": [
    {
     "data": {
      "text/html": [
       "<div>\n",
       "<style scoped>\n",
       "    .dataframe tbody tr th:only-of-type {\n",
       "        vertical-align: middle;\n",
       "    }\n",
       "\n",
       "    .dataframe tbody tr th {\n",
       "        vertical-align: top;\n",
       "    }\n",
       "\n",
       "    .dataframe thead th {\n",
       "        text-align: right;\n",
       "    }\n",
       "</style>\n",
       "<table border=\"1\" class=\"dataframe\">\n",
       "  <thead>\n",
       "    <tr style=\"text-align: right;\">\n",
       "      <th></th>\n",
       "      <th></th>\n",
       "      <th>Box_Office($)</th>\n",
       "    </tr>\n",
       "    <tr>\n",
       "      <th>Genre</th>\n",
       "      <th>Actors</th>\n",
       "      <th></th>\n",
       "    </tr>\n",
       "  </thead>\n",
       "  <tbody>\n",
       "    <tr>\n",
       "      <th rowspan=\"3\" valign=\"top\">Action</th>\n",
       "      <th>Samuel L. Jackson</th>\n",
       "      <td>1.552208e+10</td>\n",
       "    </tr>\n",
       "    <tr>\n",
       "      <th>Robert Downey Jr.</th>\n",
       "      <td>1.370067e+10</td>\n",
       "    </tr>\n",
       "    <tr>\n",
       "      <th>Scarlett Johansson</th>\n",
       "      <td>1.139312e+10</td>\n",
       "    </tr>\n",
       "    <tr>\n",
       "      <th rowspan=\"3\" valign=\"top\">Adventure</th>\n",
       "      <th>Samuel L. Jackson</th>\n",
       "      <td>1.506837e+10</td>\n",
       "    </tr>\n",
       "    <tr>\n",
       "      <th>Robert Downey Jr.</th>\n",
       "      <td>1.358802e+10</td>\n",
       "    </tr>\n",
       "    <tr>\n",
       "      <th>Scarlett Johansson</th>\n",
       "      <td>1.152563e+10</td>\n",
       "    </tr>\n",
       "    <tr>\n",
       "      <th rowspan=\"3\" valign=\"top\">Animation</th>\n",
       "      <th>Alan Tudyk</th>\n",
       "      <td>6.822221e+09</td>\n",
       "    </tr>\n",
       "    <tr>\n",
       "      <th>John Ratzenberger</th>\n",
       "      <td>5.927999e+09</td>\n",
       "    </tr>\n",
       "    <tr>\n",
       "      <th>Christopher Knights</th>\n",
       "      <td>4.818185e+09</td>\n",
       "    </tr>\n",
       "    <tr>\n",
       "      <th rowspan=\"3\" valign=\"top\">Biography</th>\n",
       "      <th>Allen Leech</th>\n",
       "      <td>1.140440e+09</td>\n",
       "    </tr>\n",
       "    <tr>\n",
       "      <th>Joseph Mazzello</th>\n",
       "      <td>1.131805e+09</td>\n",
       "    </tr>\n",
       "    <tr>\n",
       "      <th>Tom Hanks</th>\n",
       "      <td>1.116816e+09</td>\n",
       "    </tr>\n",
       "    <tr>\n",
       "      <th rowspan=\"3\" valign=\"top\">Comedy</th>\n",
       "      <th>Ben Stiller</th>\n",
       "      <td>6.900263e+09</td>\n",
       "    </tr>\n",
       "    <tr>\n",
       "      <th>Steve Carell</th>\n",
       "      <td>6.840863e+09</td>\n",
       "    </tr>\n",
       "    <tr>\n",
       "      <th>Alan Tudyk</th>\n",
       "      <td>6.700976e+09</td>\n",
       "    </tr>\n",
       "    <tr>\n",
       "      <th rowspan=\"3\" valign=\"top\">Crime</th>\n",
       "      <th>Robert De Niro</th>\n",
       "      <td>3.062272e+09</td>\n",
       "    </tr>\n",
       "    <tr>\n",
       "      <th>Brad Pitt</th>\n",
       "      <td>2.968863e+09</td>\n",
       "    </tr>\n",
       "    <tr>\n",
       "      <th>Dwayne Johnson</th>\n",
       "      <td>2.746044e+09</td>\n",
       "    </tr>\n",
       "    <tr>\n",
       "      <th rowspan=\"3\" valign=\"top\">Documentary</th>\n",
       "      <th>Andrea Cyrill</th>\n",
       "      <td>2.028612e+06</td>\n",
       "    </tr>\n",
       "    <tr>\n",
       "      <th>Cheryl Needham</th>\n",
       "      <td>2.028612e+06</td>\n",
       "    </tr>\n",
       "    <tr>\n",
       "      <th>Dana MacKay</th>\n",
       "      <td>2.028612e+06</td>\n",
       "    </tr>\n",
       "    <tr>\n",
       "      <th rowspan=\"3\" valign=\"top\">Drama</th>\n",
       "      <th>Leonardo DiCaprio</th>\n",
       "      <td>6.283472e+09</td>\n",
       "    </tr>\n",
       "    <tr>\n",
       "      <th>Cate Blanchett</th>\n",
       "      <td>5.443278e+09</td>\n",
       "    </tr>\n",
       "    <tr>\n",
       "      <th>Tom Hanks</th>\n",
       "      <td>5.345103e+09</td>\n",
       "    </tr>\n",
       "    <tr>\n",
       "      <th rowspan=\"3\" valign=\"top\">Family</th>\n",
       "      <th>Daniel Radcliffe</th>\n",
       "      <td>6.427589e+09</td>\n",
       "    </tr>\n",
       "    <tr>\n",
       "      <th>Richard Griffiths</th>\n",
       "      <td>4.995445e+09</td>\n",
       "    </tr>\n",
       "    <tr>\n",
       "      <th>Emma Watson</th>\n",
       "      <td>4.951376e+09</td>\n",
       "    </tr>\n",
       "    <tr>\n",
       "      <th rowspan=\"3\" valign=\"top\">Fantasy</th>\n",
       "      <th>Johnny Depp</th>\n",
       "      <td>7.075458e+09</td>\n",
       "    </tr>\n",
       "    <tr>\n",
       "      <th>Anthony Daniels</th>\n",
       "      <td>6.133011e+09</td>\n",
       "    </tr>\n",
       "    <tr>\n",
       "      <th>Daniel Radcliffe</th>\n",
       "      <td>6.027106e+09</td>\n",
       "    </tr>\n",
       "    <tr>\n",
       "      <th rowspan=\"3\" valign=\"top\">Film-Noir</th>\n",
       "      <th>Stephen McNally</th>\n",
       "      <td>7.572712e+08</td>\n",
       "    </tr>\n",
       "    <tr>\n",
       "      <th>Rock Hudson</th>\n",
       "      <td>5.953638e+08</td>\n",
       "    </tr>\n",
       "    <tr>\n",
       "      <th>Jim Backus</th>\n",
       "      <td>5.851768e+08</td>\n",
       "    </tr>\n",
       "    <tr>\n",
       "      <th rowspan=\"3\" valign=\"top\">History</th>\n",
       "      <th>Robert Wagner</th>\n",
       "      <td>2.334816e+09</td>\n",
       "    </tr>\n",
       "    <tr>\n",
       "      <th>Allyn Joslyn</th>\n",
       "      <td>2.207987e+09</td>\n",
       "    </tr>\n",
       "    <tr>\n",
       "      <th>Audrey Dalton</th>\n",
       "      <td>2.207987e+09</td>\n",
       "    </tr>\n",
       "    <tr>\n",
       "      <th rowspan=\"3\" valign=\"top\">Horror</th>\n",
       "      <th>Patrick Wilson</th>\n",
       "      <td>1.504357e+09</td>\n",
       "    </tr>\n",
       "    <tr>\n",
       "      <th>Vera Farmiga</th>\n",
       "      <td>1.315331e+09</td>\n",
       "    </tr>\n",
       "    <tr>\n",
       "      <th>Milla Jovovich</th>\n",
       "      <td>1.280395e+09</td>\n",
       "    </tr>\n",
       "    <tr>\n",
       "      <th rowspan=\"3\" valign=\"top\">Music</th>\n",
       "      <th>Mike Myers</th>\n",
       "      <td>1.154938e+09</td>\n",
       "    </tr>\n",
       "    <tr>\n",
       "      <th>Tom Hollander</th>\n",
       "      <td>9.452177e+08</td>\n",
       "    </tr>\n",
       "    <tr>\n",
       "      <th>Aidan Gillen</th>\n",
       "      <td>9.205092e+08</td>\n",
       "    </tr>\n",
       "    <tr>\n",
       "      <th rowspan=\"3\" valign=\"top\">Musical</th>\n",
       "      <th>Amanda Seyfried</th>\n",
       "      <td>1.451627e+09</td>\n",
       "    </tr>\n",
       "    <tr>\n",
       "      <th>Ewan McGregor</th>\n",
       "      <td>1.448999e+09</td>\n",
       "    </tr>\n",
       "    <tr>\n",
       "      <th>Stanley Tucci</th>\n",
       "      <td>1.353584e+09</td>\n",
       "    </tr>\n",
       "    <tr>\n",
       "      <th rowspan=\"3\" valign=\"top\">Mystery</th>\n",
       "      <th>Patrick Wilson</th>\n",
       "      <td>1.803592e+09</td>\n",
       "    </tr>\n",
       "    <tr>\n",
       "      <th>Vera Farmiga</th>\n",
       "      <td>1.582307e+09</td>\n",
       "    </tr>\n",
       "    <tr>\n",
       "      <th>Tom Hanks</th>\n",
       "      <td>1.480771e+09</td>\n",
       "    </tr>\n",
       "    <tr>\n",
       "      <th rowspan=\"3\" valign=\"top\">Romance</th>\n",
       "      <th>Leonardo DiCaprio</th>\n",
       "      <td>3.024590e+09</td>\n",
       "    </tr>\n",
       "    <tr>\n",
       "      <th>Kate Winslet</th>\n",
       "      <td>2.964700e+09</td>\n",
       "    </tr>\n",
       "    <tr>\n",
       "      <th>Kathy Bates</th>\n",
       "      <td>2.889658e+09</td>\n",
       "    </tr>\n",
       "    <tr>\n",
       "      <th rowspan=\"3\" valign=\"top\">Sci-Fi</th>\n",
       "      <th>Robert Downey Jr.</th>\n",
       "      <td>9.469705e+09</td>\n",
       "    </tr>\n",
       "    <tr>\n",
       "      <th>Samuel L. Jackson</th>\n",
       "      <td>9.089117e+09</td>\n",
       "    </tr>\n",
       "    <tr>\n",
       "      <th>Paul Bettany</th>\n",
       "      <td>9.043820e+09</td>\n",
       "    </tr>\n",
       "    <tr>\n",
       "      <th rowspan=\"3\" valign=\"top\">Sport</th>\n",
       "      <th>Sylvester Stallone</th>\n",
       "      <td>1.418162e+09</td>\n",
       "    </tr>\n",
       "    <tr>\n",
       "      <th>Burt Young</th>\n",
       "      <td>1.013740e+09</td>\n",
       "    </tr>\n",
       "    <tr>\n",
       "      <th>Talia Shire</th>\n",
       "      <td>9.058314e+08</td>\n",
       "    </tr>\n",
       "    <tr>\n",
       "      <th rowspan=\"3\" valign=\"top\">Thriller</th>\n",
       "      <th>Tom Cruise</th>\n",
       "      <td>5.653712e+09</td>\n",
       "    </tr>\n",
       "    <tr>\n",
       "      <th>Jason Statham</th>\n",
       "      <td>4.240582e+09</td>\n",
       "    </tr>\n",
       "    <tr>\n",
       "      <th>Judi Dench</th>\n",
       "      <td>3.793652e+09</td>\n",
       "    </tr>\n",
       "    <tr>\n",
       "      <th rowspan=\"3\" valign=\"top\">War</th>\n",
       "      <th>Brad Pitt</th>\n",
       "      <td>6.939173e+08</td>\n",
       "    </tr>\n",
       "    <tr>\n",
       "      <th>Tom Sizemore</th>\n",
       "      <td>6.553393e+08</td>\n",
       "    </tr>\n",
       "    <tr>\n",
       "      <th>Colin Firth</th>\n",
       "      <td>6.421367e+08</td>\n",
       "    </tr>\n",
       "    <tr>\n",
       "      <th rowspan=\"3\" valign=\"top\">Western</th>\n",
       "      <th>James Remar</th>\n",
       "      <td>4.613574e+08</td>\n",
       "    </tr>\n",
       "    <tr>\n",
       "      <th>Rodney A. Grant</th>\n",
       "      <td>4.472568e+08</td>\n",
       "    </tr>\n",
       "    <tr>\n",
       "      <th>David Steen</th>\n",
       "      <td>4.308393e+08</td>\n",
       "    </tr>\n",
       "  </tbody>\n",
       "</table>\n",
       "</div>"
      ],
      "text/plain": [
       "                                 Box_Office($)\n",
       "Genre       Actors                            \n",
       "Action      Samuel L. Jackson     1.552208e+10\n",
       "            Robert Downey Jr.     1.370067e+10\n",
       "            Scarlett Johansson    1.139312e+10\n",
       "Adventure   Samuel L. Jackson     1.506837e+10\n",
       "            Robert Downey Jr.     1.358802e+10\n",
       "            Scarlett Johansson    1.152563e+10\n",
       "Animation   Alan Tudyk            6.822221e+09\n",
       "            John Ratzenberger     5.927999e+09\n",
       "            Christopher Knights   4.818185e+09\n",
       "Biography   Allen Leech           1.140440e+09\n",
       "            Joseph Mazzello       1.131805e+09\n",
       "            Tom Hanks             1.116816e+09\n",
       "Comedy      Ben Stiller           6.900263e+09\n",
       "            Steve Carell          6.840863e+09\n",
       "            Alan Tudyk            6.700976e+09\n",
       "Crime       Robert De Niro        3.062272e+09\n",
       "            Brad Pitt             2.968863e+09\n",
       "            Dwayne Johnson        2.746044e+09\n",
       "Documentary Andrea Cyrill         2.028612e+06\n",
       "            Cheryl Needham        2.028612e+06\n",
       "            Dana MacKay           2.028612e+06\n",
       "Drama       Leonardo DiCaprio     6.283472e+09\n",
       "            Cate Blanchett        5.443278e+09\n",
       "            Tom Hanks             5.345103e+09\n",
       "Family      Daniel Radcliffe      6.427589e+09\n",
       "            Richard Griffiths     4.995445e+09\n",
       "            Emma Watson           4.951376e+09\n",
       "Fantasy     Johnny Depp           7.075458e+09\n",
       "            Anthony Daniels       6.133011e+09\n",
       "            Daniel Radcliffe      6.027106e+09\n",
       "Film-Noir   Stephen McNally       7.572712e+08\n",
       "            Rock Hudson           5.953638e+08\n",
       "            Jim Backus            5.851768e+08\n",
       "History     Robert Wagner         2.334816e+09\n",
       "            Allyn Joslyn          2.207987e+09\n",
       "            Audrey Dalton         2.207987e+09\n",
       "Horror      Patrick Wilson        1.504357e+09\n",
       "            Vera Farmiga          1.315331e+09\n",
       "            Milla Jovovich        1.280395e+09\n",
       "Music       Mike Myers            1.154938e+09\n",
       "            Tom Hollander         9.452177e+08\n",
       "            Aidan Gillen          9.205092e+08\n",
       "Musical     Amanda Seyfried       1.451627e+09\n",
       "            Ewan McGregor         1.448999e+09\n",
       "            Stanley Tucci         1.353584e+09\n",
       "Mystery     Patrick Wilson        1.803592e+09\n",
       "            Vera Farmiga          1.582307e+09\n",
       "            Tom Hanks             1.480771e+09\n",
       "Romance     Leonardo DiCaprio     3.024590e+09\n",
       "            Kate Winslet          2.964700e+09\n",
       "            Kathy Bates           2.889658e+09\n",
       "Sci-Fi      Robert Downey Jr.     9.469705e+09\n",
       "            Samuel L. Jackson     9.089117e+09\n",
       "            Paul Bettany          9.043820e+09\n",
       "Sport       Sylvester Stallone    1.418162e+09\n",
       "            Burt Young            1.013740e+09\n",
       "            Talia Shire           9.058314e+08\n",
       "Thriller    Tom Cruise            5.653712e+09\n",
       "            Jason Statham         4.240582e+09\n",
       "            Judi Dench            3.793652e+09\n",
       "War         Brad Pitt             6.939173e+08\n",
       "            Tom Sizemore          6.553393e+08\n",
       "            Colin Firth           6.421367e+08\n",
       "Western     James Remar           4.613574e+08\n",
       "            Rodney A. Grant       4.472568e+08\n",
       "            David Steen           4.308393e+08"
      ]
     },
     "execution_count": 40,
     "metadata": {},
     "output_type": "execute_result"
    }
   ],
   "source": [
    "df_group_genre_actor_top3"
   ]
  },
  {
   "cell_type": "markdown",
   "id": "bbe2fef6-c168-403e-aad4-21188b143a85",
   "metadata": {},
   "source": [
    "From the table above, we can see the top 3 actors that created the highest Box office returns for each genre. We can also observe that some actors are in top 3 in many genres. We can infer that customers are expecting to see same actors performing in movies that have similar genres. "
   ]
  },
  {
   "cell_type": "markdown",
   "id": "9a871c5b-db57-48a3-ba35-22a89bd42d7b",
   "metadata": {},
   "source": [
    "In addtion, We will build a model that takes in the names of the all members in a movie and predicts if the movie will do better than an average movie in terms of the ratings it gets.\n",
    "\n",
    "Y = $a_{1}$*$x_{1}$ + $a_{2}$*$x_{2}$ + $a_{3}$*$x_{3}$ +........\n",
    "\n",
    "Where Y is the score based on which we predict if the movie will get better ratings than an average movie or not\n",
    "     $a_{n}$ - coeffecient of a particular actor\n",
    "     $x_{n}$ - Actors (1 if present, 0 if not)"
   ]
  },
  {
   "cell_type": "code",
   "execution_count": 41,
   "id": "8ef90c5a-1968-4048-af2c-acdbef711e42",
   "metadata": {},
   "outputs": [],
   "source": [
    "#Importing necessary libraries\n",
    "from sklearn.feature_extraction.text import CountVectorizer\n",
    "from sklearn.linear_model import LogisticRegression"
   ]
  },
  {
   "cell_type": "markdown",
   "id": "af9b1c2a-7fa9-4158-b43d-332b22144261",
   "metadata": {},
   "source": [
    "Let's assume that all the movies which have rating greater than the average rating are good and hence we assign +1 score to that movie and -1 otherwise.."
   ]
  },
  {
   "cell_type": "code",
   "execution_count": 42,
   "id": "107bcd33-fe2f-4005-95f5-70d1a5ccb690",
   "metadata": {},
   "outputs": [
    {
     "data": {
      "text/html": [
       "<div>\n",
       "<style scoped>\n",
       "    .dataframe tbody tr th:only-of-type {\n",
       "        vertical-align: middle;\n",
       "    }\n",
       "\n",
       "    .dataframe tbody tr th {\n",
       "        vertical-align: top;\n",
       "    }\n",
       "\n",
       "    .dataframe thead th {\n",
       "        text-align: right;\n",
       "    }\n",
       "</style>\n",
       "<table border=\"1\" class=\"dataframe\">\n",
       "  <thead>\n",
       "    <tr style=\"text-align: right;\">\n",
       "      <th></th>\n",
       "      <th>Original_Title</th>\n",
       "      <th>Actors</th>\n",
       "      <th>Avg_Vote</th>\n",
       "      <th>Original Score</th>\n",
       "    </tr>\n",
       "  </thead>\n",
       "  <tbody>\n",
       "    <tr>\n",
       "      <th>0</th>\n",
       "      <td>Miss Jerry</td>\n",
       "      <td>Blanche Bayliss, William Courtenay, Chauncey D...</td>\n",
       "      <td>5.9</td>\n",
       "      <td>-1</td>\n",
       "    </tr>\n",
       "    <tr>\n",
       "      <th>1</th>\n",
       "      <td>The Story of the Kelly Gang</td>\n",
       "      <td>Elizabeth Tait, John Tait, Norman Campbell, Be...</td>\n",
       "      <td>6.1</td>\n",
       "      <td>1</td>\n",
       "    </tr>\n",
       "    <tr>\n",
       "      <th>2</th>\n",
       "      <td>Den sorte drøm</td>\n",
       "      <td>Asta Nielsen, Valdemar Psilander, Gunnar Helse...</td>\n",
       "      <td>5.8</td>\n",
       "      <td>-1</td>\n",
       "    </tr>\n",
       "    <tr>\n",
       "      <th>3</th>\n",
       "      <td>Cleopatra</td>\n",
       "      <td>Helen Gardner, Pearl Sindelar, Miss Fielding, ...</td>\n",
       "      <td>5.2</td>\n",
       "      <td>-1</td>\n",
       "    </tr>\n",
       "    <tr>\n",
       "      <th>4</th>\n",
       "      <td>L'Inferno</td>\n",
       "      <td>Salvatore Papa, Arturo Pirovano, Giuseppe de L...</td>\n",
       "      <td>7.0</td>\n",
       "      <td>1</td>\n",
       "    </tr>\n",
       "    <tr>\n",
       "      <th>...</th>\n",
       "      <td>...</td>\n",
       "      <td>...</td>\n",
       "      <td>...</td>\n",
       "      <td>...</td>\n",
       "    </tr>\n",
       "    <tr>\n",
       "      <th>88065</th>\n",
       "      <td>Le lion</td>\n",
       "      <td>Dany Boon, Philippe Katerine, Anne Serra, Samu...</td>\n",
       "      <td>5.3</td>\n",
       "      <td>-1</td>\n",
       "    </tr>\n",
       "    <tr>\n",
       "      <th>88066</th>\n",
       "      <td>De Beentjes van Sint-Hildegard</td>\n",
       "      <td>Herman Finkers, Johanna ter Steege, Leonie ter...</td>\n",
       "      <td>7.7</td>\n",
       "      <td>1</td>\n",
       "    </tr>\n",
       "    <tr>\n",
       "      <th>88067</th>\n",
       "      <td>Padmavyuhathile Abhimanyu</td>\n",
       "      <td>Anoop Chandran, Indrans, Sona Nair, Simon Brit...</td>\n",
       "      <td>7.9</td>\n",
       "      <td>1</td>\n",
       "    </tr>\n",
       "    <tr>\n",
       "      <th>88068</th>\n",
       "      <td>Sokagin Çocuklari</td>\n",
       "      <td>Ahmet Faik Akinci, Belma Mamati, Metin Keçeci,...</td>\n",
       "      <td>6.4</td>\n",
       "      <td>1</td>\n",
       "    </tr>\n",
       "    <tr>\n",
       "      <th>88069</th>\n",
       "      <td>La vida sense la Sara Amat</td>\n",
       "      <td>Maria Morera Colomer, Biel Rossell Pelfort, Is...</td>\n",
       "      <td>6.7</td>\n",
       "      <td>1</td>\n",
       "    </tr>\n",
       "  </tbody>\n",
       "</table>\n",
       "<p>83410 rows × 4 columns</p>\n",
       "</div>"
      ],
      "text/plain": [
       "                       Original_Title  \\\n",
       "0                          Miss Jerry   \n",
       "1         The Story of the Kelly Gang   \n",
       "2                      Den sorte drøm   \n",
       "3                           Cleopatra   \n",
       "4                           L'Inferno   \n",
       "...                               ...   \n",
       "88065                         Le lion   \n",
       "88066  De Beentjes van Sint-Hildegard   \n",
       "88067       Padmavyuhathile Abhimanyu   \n",
       "88068               Sokagin Çocuklari   \n",
       "88069      La vida sense la Sara Amat   \n",
       "\n",
       "                                                  Actors  Avg_Vote  \\\n",
       "0      Blanche Bayliss, William Courtenay, Chauncey D...       5.9   \n",
       "1      Elizabeth Tait, John Tait, Norman Campbell, Be...       6.1   \n",
       "2      Asta Nielsen, Valdemar Psilander, Gunnar Helse...       5.8   \n",
       "3      Helen Gardner, Pearl Sindelar, Miss Fielding, ...       5.2   \n",
       "4      Salvatore Papa, Arturo Pirovano, Giuseppe de L...       7.0   \n",
       "...                                                  ...       ...   \n",
       "88065  Dany Boon, Philippe Katerine, Anne Serra, Samu...       5.3   \n",
       "88066  Herman Finkers, Johanna ter Steege, Leonie ter...       7.7   \n",
       "88067  Anoop Chandran, Indrans, Sona Nair, Simon Brit...       7.9   \n",
       "88068  Ahmet Faik Akinci, Belma Mamati, Metin Keçeci,...       6.4   \n",
       "88069  Maria Morera Colomer, Biel Rossell Pelfort, Is...       6.7   \n",
       "\n",
       "       Original Score  \n",
       "0                  -1  \n",
       "1                   1  \n",
       "2                  -1  \n",
       "3                  -1  \n",
       "4                   1  \n",
       "...               ...  \n",
       "88065              -1  \n",
       "88066               1  \n",
       "88067               1  \n",
       "88068               1  \n",
       "88069               1  \n",
       "\n",
       "[83410 rows x 4 columns]"
      ]
     },
     "execution_count": 42,
     "metadata": {},
     "output_type": "execute_result"
    }
   ],
   "source": [
    "#Assigning +1 sentiment to movies with average rating more than the mean ratings and -1 otherwise\n",
    "df = final[['Original_Title','Actors','Avg_Vote']].copy()\n",
    "df.loc[:,'Original Score'] = df['Avg_Vote'].apply(lambda Vote : +1 if Vote > (df['Avg_Vote'].mean()) else -1)\n",
    "\n",
    "#Dropping all the rows with NA values for better model\n",
    "df.dropna(subset=['Actors','Avg_Vote'],inplace = True)\n",
    "\n",
    "df"
   ]
  },
  {
   "cell_type": "code",
   "execution_count": 43,
   "id": "27a272f0-7d49-49ed-95bd-ee47321e7739",
   "metadata": {},
   "outputs": [],
   "source": [
    "#Preparing the actors column for vectorization\n",
    "df['Actors'] = df['Actors'].str.replace(',', '')"
   ]
  },
  {
   "cell_type": "code",
   "execution_count": 44,
   "id": "6d53d162-e84a-4ba5-9867-46743c802e8f",
   "metadata": {},
   "outputs": [],
   "source": [
    "#Splitting the dataset in training and test data\n",
    "train_data = df.sample(frac=0.8, random_state=25)\n",
    "test_data = df.drop(train_data.index)"
   ]
  },
  {
   "cell_type": "code",
   "execution_count": 45,
   "id": "c7286230-f83a-40ef-bead-76c61c5dd11f",
   "metadata": {},
   "outputs": [],
   "source": [
    "#Using the CountVectorizer to split the actors and get their matrix\n",
    "vectorizer = CountVectorizer(ngram_range=(2, 2))\n",
    "train_matrix = vectorizer.fit_transform(train_data['Actors'])\n",
    "#vectorizer.get_feature_names()\n",
    "test_matrix = vectorizer.transform(test_data['Actors'])"
   ]
  },
  {
   "cell_type": "code",
   "execution_count": 46,
   "id": "79e1b331-c883-4461-a932-87202b81325d",
   "metadata": {},
   "outputs": [
    {
     "data": {
      "text/plain": [
       "LogisticRegression(max_iter=400)"
      ]
     },
     "execution_count": 46,
     "metadata": {},
     "output_type": "execute_result"
    }
   ],
   "source": [
    "#Training the model\n",
    "model = LogisticRegression(solver='lbfgs', max_iter=400)\n",
    "model.fit(train_matrix, train_data['Original Score'])"
   ]
  },
  {
   "cell_type": "markdown",
   "id": "70ed0264-e718-412d-8a40-c451e61cf357",
   "metadata": {},
   "source": [
    "Let's compare our predicted score with the original score"
   ]
  },
  {
   "cell_type": "code",
   "execution_count": 47,
   "id": "3dc5f105-a9b9-4b12-9225-66877c94b8ec",
   "metadata": {},
   "outputs": [
    {
     "data": {
      "text/html": [
       "<div>\n",
       "<style scoped>\n",
       "    .dataframe tbody tr th:only-of-type {\n",
       "        vertical-align: middle;\n",
       "    }\n",
       "\n",
       "    .dataframe tbody tr th {\n",
       "        vertical-align: top;\n",
       "    }\n",
       "\n",
       "    .dataframe thead th {\n",
       "        text-align: right;\n",
       "    }\n",
       "</style>\n",
       "<table border=\"1\" class=\"dataframe\">\n",
       "  <thead>\n",
       "    <tr style=\"text-align: right;\">\n",
       "      <th></th>\n",
       "      <th>Original_Title</th>\n",
       "      <th>Actors</th>\n",
       "      <th>Avg_Vote</th>\n",
       "      <th>Original Score</th>\n",
       "      <th>predicted_score</th>\n",
       "    </tr>\n",
       "  </thead>\n",
       "  <tbody>\n",
       "    <tr>\n",
       "      <th>21</th>\n",
       "      <td>Assunta Spina</td>\n",
       "      <td>Francesca Bertini Gustavo Serena Carlo Benetti...</td>\n",
       "      <td>6.4</td>\n",
       "      <td>1</td>\n",
       "      <td>1</td>\n",
       "    </tr>\n",
       "    <tr>\n",
       "      <th>23</th>\n",
       "      <td>The Bargain</td>\n",
       "      <td>William S. Hart J. Frank Burke Clara Williams ...</td>\n",
       "      <td>6.5</td>\n",
       "      <td>1</td>\n",
       "      <td>1</td>\n",
       "    </tr>\n",
       "    <tr>\n",
       "      <th>30</th>\n",
       "      <td>A Florida Enchantment</td>\n",
       "      <td>Sidney Drew Edith Storey Charles Kent Mrs. Sid...</td>\n",
       "      <td>5.8</td>\n",
       "      <td>-1</td>\n",
       "      <td>1</td>\n",
       "    </tr>\n",
       "    <tr>\n",
       "      <th>50</th>\n",
       "      <td>The Birth of a Nation</td>\n",
       "      <td>Henry B. Walthall Lillian Gish Mae Marsh Miria...</td>\n",
       "      <td>6.3</td>\n",
       "      <td>1</td>\n",
       "      <td>1</td>\n",
       "    </tr>\n",
       "    <tr>\n",
       "      <th>51</th>\n",
       "      <td>Carmen</td>\n",
       "      <td>Geraldine Farrar Wallace Reid Pedro de Cordoba...</td>\n",
       "      <td>6.4</td>\n",
       "      <td>1</td>\n",
       "      <td>1</td>\n",
       "    </tr>\n",
       "    <tr>\n",
       "      <th>...</th>\n",
       "      <td>...</td>\n",
       "      <td>...</td>\n",
       "      <td>...</td>\n",
       "      <td>...</td>\n",
       "      <td>...</td>\n",
       "    </tr>\n",
       "    <tr>\n",
       "      <th>88034</th>\n",
       "      <td>Momenti di trascurabile felicità</td>\n",
       "      <td>Pif Thony Renato Carpentieri Franz Cantalupo V...</td>\n",
       "      <td>5.5</td>\n",
       "      <td>-1</td>\n",
       "      <td>1</td>\n",
       "    </tr>\n",
       "    <tr>\n",
       "      <th>88036</th>\n",
       "      <td>Koridor bessmertiya</td>\n",
       "      <td>Artyom Alekseev Francisco de Borja De la Bella...</td>\n",
       "      <td>5.6</td>\n",
       "      <td>-1</td>\n",
       "      <td>1</td>\n",
       "    </tr>\n",
       "    <tr>\n",
       "      <th>88044</th>\n",
       "      <td>Season of Love</td>\n",
       "      <td>Dominique Provost-Chalkley Jessica Clark Emily...</td>\n",
       "      <td>7.5</td>\n",
       "      <td>1</td>\n",
       "      <td>-1</td>\n",
       "    </tr>\n",
       "    <tr>\n",
       "      <th>88057</th>\n",
       "      <td>Lupin the IIIrd: Mine Fujiko no Uso</td>\n",
       "      <td>Kan'ichi Kurita Kiyoshi Kobayashi Miyuki Sawas...</td>\n",
       "      <td>6.9</td>\n",
       "      <td>1</td>\n",
       "      <td>1</td>\n",
       "    </tr>\n",
       "    <tr>\n",
       "      <th>88060</th>\n",
       "      <td>La reina de los lagartos</td>\n",
       "      <td>Javier Botet Bruna Cusí Miki Esparbé Ivan Labanda</td>\n",
       "      <td>4.8</td>\n",
       "      <td>-1</td>\n",
       "      <td>1</td>\n",
       "    </tr>\n",
       "  </tbody>\n",
       "</table>\n",
       "<p>16682 rows × 5 columns</p>\n",
       "</div>"
      ],
      "text/plain": [
       "                            Original_Title  \\\n",
       "21                           Assunta Spina   \n",
       "23                             The Bargain   \n",
       "30                   A Florida Enchantment   \n",
       "50                   The Birth of a Nation   \n",
       "51                                  Carmen   \n",
       "...                                    ...   \n",
       "88034     Momenti di trascurabile felicità   \n",
       "88036                  Koridor bessmertiya   \n",
       "88044                       Season of Love   \n",
       "88057  Lupin the IIIrd: Mine Fujiko no Uso   \n",
       "88060             La reina de los lagartos   \n",
       "\n",
       "                                                  Actors  Avg_Vote  \\\n",
       "21     Francesca Bertini Gustavo Serena Carlo Benetti...       6.4   \n",
       "23     William S. Hart J. Frank Burke Clara Williams ...       6.5   \n",
       "30     Sidney Drew Edith Storey Charles Kent Mrs. Sid...       5.8   \n",
       "50     Henry B. Walthall Lillian Gish Mae Marsh Miria...       6.3   \n",
       "51     Geraldine Farrar Wallace Reid Pedro de Cordoba...       6.4   \n",
       "...                                                  ...       ...   \n",
       "88034  Pif Thony Renato Carpentieri Franz Cantalupo V...       5.5   \n",
       "88036  Artyom Alekseev Francisco de Borja De la Bella...       5.6   \n",
       "88044  Dominique Provost-Chalkley Jessica Clark Emily...       7.5   \n",
       "88057  Kan'ichi Kurita Kiyoshi Kobayashi Miyuki Sawas...       6.9   \n",
       "88060  Javier Botet Bruna Cusí Miki Esparbé Ivan Labanda       4.8   \n",
       "\n",
       "       Original Score  predicted_score  \n",
       "21                  1                1  \n",
       "23                  1                1  \n",
       "30                 -1                1  \n",
       "50                  1                1  \n",
       "51                  1                1  \n",
       "...               ...              ...  \n",
       "88034              -1                1  \n",
       "88036              -1                1  \n",
       "88044               1               -1  \n",
       "88057               1                1  \n",
       "88060              -1                1  \n",
       "\n",
       "[16682 rows x 5 columns]"
      ]
     },
     "execution_count": 47,
     "metadata": {},
     "output_type": "execute_result"
    }
   ],
   "source": [
    "predicted_df = test_data\n",
    "predicted_df['predicted_score'] = model.predict(test_matrix).tolist()\n",
    "predicted_df"
   ]
  },
  {
   "cell_type": "code",
   "execution_count": 48,
   "id": "c39aaf2a-0398-4548-b0bc-8555f77cf6be",
   "metadata": {},
   "outputs": [
    {
     "name": "stdout",
     "output_type": "stream",
     "text": [
      "Correctly Predicted: 12192, Total Movies: 16682\n",
      "Accuracy of our model:73.08%\n",
      "Base Case :56.51%\n"
     ]
    }
   ],
   "source": [
    "#Checking the accuracy of our model\n",
    "predicted_y = model.predict(test_matrix)\n",
    "correct_num = np.sum(predicted_y == test_data['Original Score'])\n",
    "total_num = len(test_data['Original Score'])\n",
    "print(\"Correctly Predicted: {}, Total Movies: {}\".format(correct_num, total_num))\n",
    "accuracy = correct_num * 1./ total_num\n",
    "print(f'Accuracy of our model:{accuracy:.2%}')\n",
    "base = test_data['Original Score'].value_counts()[1]* 1./ total_num\n",
    "print(f'Base Case :{base:.2%}')"
   ]
  },
  {
   "cell_type": "markdown",
   "id": "d568c5f2-85ff-4b32-942c-4c0637c05598",
   "metadata": {},
   "source": [
    "Our Model is doing 15+ percent is better than the base case which can be further improved with better dataset and refinement"
   ]
  },
  {
   "cell_type": "code",
   "execution_count": 49,
   "id": "d5671cf4-0e4a-42fc-a601-4eb26ab83373",
   "metadata": {},
   "outputs": [
    {
     "data": {
      "text/html": [
       "<div>\n",
       "<style scoped>\n",
       "    .dataframe tbody tr th:only-of-type {\n",
       "        vertical-align: middle;\n",
       "    }\n",
       "\n",
       "    .dataframe tbody tr th {\n",
       "        vertical-align: top;\n",
       "    }\n",
       "\n",
       "    .dataframe thead th {\n",
       "        text-align: right;\n",
       "    }\n",
       "</style>\n",
       "<table border=\"1\" class=\"dataframe\">\n",
       "  <thead>\n",
       "    <tr style=\"text-align: right;\">\n",
       "      <th></th>\n",
       "      <th>coefficient</th>\n",
       "    </tr>\n",
       "    <tr>\n",
       "      <th>Actor</th>\n",
       "      <th></th>\n",
       "    </tr>\n",
       "  </thead>\n",
       "  <tbody>\n",
       "    <tr>\n",
       "      <th>michael madsen</th>\n",
       "      <td>-1.479848</td>\n",
       "    </tr>\n",
       "    <tr>\n",
       "      <th>mohan babu</th>\n",
       "      <td>-1.239461</td>\n",
       "    </tr>\n",
       "    <tr>\n",
       "      <th>eric roberts</th>\n",
       "      <td>-1.231248</td>\n",
       "    </tr>\n",
       "    <tr>\n",
       "      <th>michael paré</th>\n",
       "      <td>-1.191718</td>\n",
       "    </tr>\n",
       "    <tr>\n",
       "      <th>gulshan grover</th>\n",
       "      <td>-1.180451</td>\n",
       "    </tr>\n",
       "    <tr>\n",
       "      <th>...</th>\n",
       "      <td>...</td>\n",
       "    </tr>\n",
       "    <tr>\n",
       "      <th>anant nag</th>\n",
       "      <td>1.341929</td>\n",
       "    </tr>\n",
       "    <tr>\n",
       "      <th>lee cobb</th>\n",
       "      <td>1.378788</td>\n",
       "    </tr>\n",
       "    <tr>\n",
       "      <th>burt lancaster</th>\n",
       "      <td>1.380705</td>\n",
       "    </tr>\n",
       "    <tr>\n",
       "      <th>william holden</th>\n",
       "      <td>1.416656</td>\n",
       "    </tr>\n",
       "    <tr>\n",
       "      <th>kamal haasan</th>\n",
       "      <td>1.962544</td>\n",
       "    </tr>\n",
       "  </tbody>\n",
       "</table>\n",
       "<p>1096684 rows × 1 columns</p>\n",
       "</div>"
      ],
      "text/plain": [
       "                coefficient\n",
       "Actor                      \n",
       "michael madsen    -1.479848\n",
       "mohan babu        -1.239461\n",
       "eric roberts      -1.231248\n",
       "michael paré      -1.191718\n",
       "gulshan grover    -1.180451\n",
       "...                     ...\n",
       "anant nag          1.341929\n",
       "lee cobb           1.378788\n",
       "burt lancaster     1.380705\n",
       "william holden     1.416656\n",
       "kamal haasan       1.962544\n",
       "\n",
       "[1096684 rows x 1 columns]"
      ]
     },
     "execution_count": 49,
     "metadata": {},
     "output_type": "execute_result"
    }
   ],
   "source": [
    "#Displaying the coefficient table for each of the actors\n",
    "model_coef_table = pd.DataFrame({'Actor':vectorizer.get_feature_names(),\n",
    "                                         'coefficient':model.coef_.flatten()})\n",
    "model_coef_table.sort_values(by = 'coefficient').set_index('Actor')\n"
   ]
  },
  {
   "cell_type": "markdown",
   "id": "9d7075db-a5af-47a7-bb7d-4204dc1e5d9a",
   "metadata": {},
   "source": [
    "The above table shows the coeffecients assigned to each actor by our model"
   ]
  },
  {
   "cell_type": "markdown",
   "id": "242103c9-1dd9-463c-b14b-a61d212e0f67",
   "metadata": {},
   "source": [
    "Let us examine our model by passing all 'The Godfather' actors to the model and see what it predicts"
   ]
  },
  {
   "cell_type": "code",
   "execution_count": 50,
   "id": "041d6c71-dc0d-4bf8-862d-8501d2b7477a",
   "metadata": {},
   "outputs": [
    {
     "name": "stdout",
     "output_type": "stream",
     "text": [
      "Model Score : [3.26038852]\n",
      "Prediction : [1]\n",
      "Imdb Rating of GodFather : [9.2]\n"
     ]
    }
   ],
   "source": [
    "The_Godfather_matrix = vectorizer.transform(df[df['Original_Title'] == 'The Godfather'].Actors)\n",
    "scores = model.decision_function(The_Godfather_matrix)\n",
    "print(f'Model Score : {scores}')\n",
    "print(f'Prediction : {model.predict(The_Godfather_matrix)}')\n",
    "print(f\"Imdb Rating of GodFather : {df[df['Original_Title'] == 'The Godfather']['Avg_Vote'].values}\")"
   ]
  },
  {
   "cell_type": "markdown",
   "id": "4b2fd926-d344-48d5-b4cb-a4170fbb979d",
   "metadata": {},
   "source": [
    "Let us examine our model by passing all the 'Scary Movie 2' actors to the model and see what it predicts"
   ]
  },
  {
   "cell_type": "code",
   "execution_count": 51,
   "id": "c8bd9add-e5c2-4dba-90ff-99559625750a",
   "metadata": {},
   "outputs": [
    {
     "name": "stdout",
     "output_type": "stream",
     "text": [
      "Model Score : [-2.52563557]\n",
      "Prediction : [-1]\n",
      "Imdb Rating of Scary Movie 2 : [5.3]\n"
     ]
    }
   ],
   "source": [
    "Scary_Movie_2_matrix = vectorizer.transform(df[df['Original_Title'] == 'Scary Movie 2'].Actors)\n",
    "scores = model.decision_function(Scary_Movie_2_matrix)\n",
    "print(f'Model Score : {scores}')\n",
    "print(f'Prediction : {model.predict(Scary_Movie_2_matrix)}')\n",
    "print(f\"Imdb Rating of Scary Movie 2 : {df[df['Original_Title'] == 'Scary Movie 2']['Avg_Vote'].values}\")"
   ]
  },
  {
   "cell_type": "markdown",
   "id": "cb93e03d-3e8d-4798-b63f-e4a6143a6c63",
   "metadata": {},
   "source": [
    "Stakeholders can use this model to make more data informed decision about the casting of actors and how the movie will perform with respect to audience rating. \n",
    "\n",
    "This model can be expanded to understand exactly how much value a certain actor brings with them using a comprehensive box-office collection data. "
   ]
  },
  {
   "cell_type": "markdown",
   "id": "0068259c-70cb-431c-8b7e-5f07158d50fd",
   "metadata": {},
   "source": [
    "### Question 4: \n",
    "We will analyze the what months are the best or worst to release movie. "
   ]
  },
  {
   "cell_type": "code",
   "execution_count": 52,
   "id": "a513dcb5-a950-489f-97bb-1001643dc413",
   "metadata": {},
   "outputs": [],
   "source": [
    "final.loc[:,'Month'] = final.loc[:,'Date_Published'].dt.month"
   ]
  },
  {
   "cell_type": "code",
   "execution_count": 53,
   "id": "70c3daed-066e-43b1-bd65-543a8ac0a2ee",
   "metadata": {},
   "outputs": [],
   "source": [
    "final.loc[:,'Box_Office($)'] = pd.to_numeric(final.loc[:,'Box_Office($)'],errors='coerce')"
   ]
  },
  {
   "cell_type": "code",
   "execution_count": 54,
   "id": "feea71c1-3234-4ded-8cc8-31dc6c1d56c6",
   "metadata": {},
   "outputs": [
    {
     "data": {
      "image/png": "[encoded data removed]",
      "text/plain": [
       "<Figure size 720x576 with 1 Axes>"
      ]
     },
     "metadata": {
      "needs_background": "light"
     },
     "output_type": "display_data"
    }
   ],
   "source": [
    "df_grouped = final.groupby('Month')['Box_Office($)'].sum().reset_index()\n",
    "plt.figure(figsize=(10, 8))\n",
    "plt.bar(x=df_grouped['Month'], height=df_grouped['Box_Office($)'])\n",
    "plt.xlabel('Month')\n",
    "plt.ylabel('Worlwide Gross Income')\n",
    "plt.title(\"Total Worlwide Gross Income each month\")\n",
    "plt.show();"
   ]
  },
  {
   "cell_type": "markdown",
   "id": "1f3ad395-3afd-4c9f-9ce3-8267b897fe29",
   "metadata": {},
   "source": [
    "The total gross income is high during the start of year and it is lowest in the mid-year i.e. in the month of June. It also increases as it reaches at the end of year. It seems movies are doing good at the end or at the beginning of year."
   ]
  },
  {
   "cell_type": "markdown",
   "id": "0cac7917-9b91-4eaa-989a-db46623180d8",
   "metadata": {},
   "source": [
    "We will use count function first to count number of movies produced over each month, then use plt function to plot the time series plot. We want to know if producers or production companies have strategies with the release dates to specific months. Using this plot, we can know how much movies are producted in each month on average and see if there specific months that produces will produce more movies or produce less movies.Then, we can make inference about the reasons.\n"
   ]
  },
  {
   "cell_type": "code",
   "execution_count": 55,
   "id": "103e7b5c-fd3f-488c-8197-1d23ba15e42c",
   "metadata": {},
   "outputs": [
    {
     "data": {
      "image/png": "[encoded data removed]",
      "text/plain": [
       "<Figure size 720x576 with 1 Axes>"
      ]
     },
     "metadata": {
      "needs_background": "light"
     },
     "output_type": "display_data"
    }
   ],
   "source": [
    "# Count number of movies produced over  each month and groupby\n",
    "df_grouped = final.groupby('Month')['Imdb_Title_Id'].count().reset_index()\n",
    "# plot the time serie plot \"Total movies count each month'\n",
    "plt.figure(figsize=(10, 8))\n",
    "plt.plot(df_grouped['Month'], df_grouped['Imdb_Title_Id'])\n",
    "plt.xlabel('Month')\n",
    "plt.ylabel('Total movies')\n",
    "plt.title(\"Total movies count each month\")\n",
    "plt.show()"
   ]
  },
  {
   "cell_type": "markdown",
   "id": "c9c03800-0447-4b52-9341-b2022f5732db",
   "metadata": {},
   "source": [
    " From the above plot, it is evident that the number of movies are released more at the end of the year. We can see that more movies are produced at the end of each year. This is because of Christmas and New Year. People will have more time to watch movies between October and December. In comparison, there will be a lot less movie productions from April to July. From July to October, the production of movies increased significantly. This is because of the school's summer vacation. Teachers and students have more time to watch movies during this time. Hence, producers or production companies seems to strategize the release dates to specific months."
   ]
  },
  {
   "cell_type": "markdown",
   "id": "d8a163b6",
   "metadata": {},
   "source": [
    "### Question 5: \n",
    "\n",
    "We will analyze movie descriptions. Filmmaking is not a simple process. A good movie depends not only on a good director but on rest of the team including editors, cinematographers, actors, producers, writers and others. A screenplay is the heart of a film which provides the story and the blueprint of the entire process. Though the writing process is based on creativity, it is also dependent on a few business parameters. A films story is dependent on the current societal demand; what people like, stories that resonate with the majority of audience such musicals. Film production houses take these parameters into account while making decisions, parameters that will lead to the film being liked by a large audience and in turn generating large revenue for the film. We will analyze past films to identify the patterns. \n",
    "\n",
    "Film descriptions are a short summary of what the audience should expect from the film. We will analyze descriptions  of films that have scored more than 6.5 on IMDB. This range includes below expectation, average, good and best films. The aim is to identify keywords from the descriptions that will help in uderstanding story elements that work for good films. "
   ]
  },
  {
   "cell_type": "code",
   "execution_count": 56,
   "id": "6109676c",
   "metadata": {},
   "outputs": [],
   "source": [
    "# Importing nltk for NLP\n",
    "from nltk.corpus import stopwords\n",
    "from nltk import word_tokenize\n",
    "from nltk.tokenize.treebank import TreebankWordDetokenizer\n",
    "from wordcloud import WordCloud\n",
    "import nltk"
   ]
  },
  {
   "cell_type": "markdown",
   "id": "da66c918",
   "metadata": {},
   "source": [
    "We will use stopwords that will help remove conjunctions and other elements from the descriptions. \n",
    "\n",
    "Additionally, we will also remove words that are smaller than 4 characters. "
   ]
  },
  {
   "cell_type": "code",
   "execution_count": 57,
   "id": "8e25b83d",
   "metadata": {},
   "outputs": [],
   "source": [
    "# Setting the stopwords to English\n",
    "stopwords = set(stopwords.words('english'))\n",
    "detokenizer = TreebankWordDetokenizer()"
   ]
  },
  {
   "cell_type": "code",
   "execution_count": 58,
   "id": "ade90ddd",
   "metadata": {},
   "outputs": [],
   "source": [
    "# Converting the Description column to string type to do NLP\n",
    "final = final.astype({'Description':'string'})\n",
    "\n",
    "# Selecting Films that have an average score greater than 5.9\n",
    "good_films = final[final['Avg_Vote']>6.5].copy()\n",
    "\n",
    "\n",
    "# Copying the data to a new dataframe to work on the NLP\n",
    "description = good_films['Description'].dropna().copy()"
   ]
  },
  {
   "cell_type": "markdown",
   "id": "8a5bdb50",
   "metadata": {},
   "source": [
    " The above code filters out movies that have an average rating of less than 6.5. Additionally, I have dropped the na values from the data for our analysis. "
   ]
  },
  {
   "cell_type": "code",
   "execution_count": 59,
   "id": "52771ae1",
   "metadata": {},
   "outputs": [],
   "source": [
    "# Creating a function to remove tokenize the words in teh description \n",
    "# Removing the stopwords from the data\n",
    "def cleaned_desc(desc):\n",
    "    desc = word_tokenize(desc.lower())\n",
    "    desc = [token for token in desc if token not in stopwords and token.isalpha() and len(token) > 4 and token !='story']\n",
    "    return detokenizer.detokenize(desc)\n",
    "\n",
    "good_films.loc[:,'clean_description'] = description.apply(cleaned_desc)"
   ]
  },
  {
   "cell_type": "code",
   "execution_count": 60,
   "id": "d54e939d",
   "metadata": {},
   "outputs": [],
   "source": [
    "# Counting the occurence of the words in the description\n",
    "word_description = good_films['clean_description'].str.split(expand=True).stack().value_counts()"
   ]
  },
  {
   "cell_type": "code",
   "execution_count": 61,
   "id": "1c7298a5",
   "metadata": {},
   "outputs": [
    {
     "data": {
      "text/plain": [
       "young       3504\n",
       "family      2139\n",
       "woman       1990\n",
       "father      1453\n",
       "world       1274\n",
       "            ... \n",
       "aumont         1\n",
       "amoeban        1\n",
       "héracles       1\n",
       "chiisana       1\n",
       "pinball        1\n",
       "Length: 33703, dtype: int64"
      ]
     },
     "execution_count": 61,
     "metadata": {},
     "output_type": "execute_result"
    }
   ],
   "source": [
    "# Displaying the word_description in descending order\n",
    "word_description.sort_values(ascending=False)"
   ]
  },
  {
   "cell_type": "markdown",
   "id": "d3d92276",
   "metadata": {},
   "source": [
    "We will create a word cloud of the most occuring words int eh movie descriptions for films that have a rating higher than 6.5. We are passing a dictionary of the words and their counts into the WordCloud function. "
   ]
  },
  {
   "cell_type": "code",
   "execution_count": 62,
   "id": "9038d695",
   "metadata": {},
   "outputs": [],
   "source": [
    "#Creating a dictionary of the count values of the description\n",
    "temp = word_description.to_dict()"
   ]
  },
  {
   "cell_type": "code",
   "execution_count": 63,
   "id": "cdd3713c",
   "metadata": {},
   "outputs": [],
   "source": [
    "# Creating the word cloud and setting the parameters.\n",
    "word_cloud = WordCloud(collocations = True, background_color = 'white', width=3000, height=2000, max_words=100)"
   ]
  },
  {
   "cell_type": "code",
   "execution_count": 64,
   "id": "8cb5176a",
   "metadata": {},
   "outputs": [
    {
     "data": {
      "image/png": "[encoded data removed]",
      "text/plain": [
       "<Figure size 1080x720 with 1 Axes>"
      ]
     },
     "metadata": {
      "needs_background": "light"
     },
     "output_type": "display_data"
    }
   ],
   "source": [
    "# Generating a word count from the word frequencies\n",
    "word_cloud.generate_from_frequencies(temp)\n",
    "\n",
    "#Setting the figure size\n",
    "plt.figure(figsize=[15,10])\n",
    "plt.axis(\"off\")\n",
    "\n",
    "#displaying the word cloud\n",
    "plt.imshow(word_cloud, interpolation='bilinear');"
   ]
  },
  {
   "cell_type": "markdown",
   "id": "b19e3e93",
   "metadata": {},
   "source": [
    "From the above word cloud, we can see that 'Young' is the word that occurs the most in movie descriptions. This is followed by Family, woman, father and so on. This suggests that a majority of successful films have some element related to 'young' which can be a movie with characters that are young. \n",
    "The following can be inferred:\n",
    "\n",
    "1) Movies about kids or young aged individuals fair well with the audience. \n",
    "\n",
    "2) The movie can include a younger representation of the characters. \n",
    "\n",
    "\n",
    "Family suggests that the audience like movies that revolve around families, or that include a family. Similarly, woman characters resonate well with the crowd. \n",
    "\n",
    "This can provide not only screenwriters, but every individual in the filmmaking process, a roadmap in creating a successful film. "
   ]
  },
  {
   "cell_type": "markdown",
   "id": "e5f17e6c-6fca-4263-9c0c-5ec2e4733af7",
   "metadata": {},
   "source": [
    "## Conclusion\n",
    "\n",
    "The film industry till now was focused on operating on gut instinct.But, data analysis helps in breaking down huge datasets and revealing patterns that are not visible to humans. We used data to extract valuable information for the entertainment industry which includes writers, actors, producers and directors. This shows that AI has the potential to revolutionize films and will have a big impact on what we will watch in the future."
   ]
  }
 ],
 "metadata": {
  "kernelspec": {
   "display_name": "Python 3 (ipykernel)",
   "language": "python",
   "name": "python3"
  },
  "language_info": {
   "codemirror_mode": {
    "name": "ipython",
    "version": 3
   },
   "file_extension": ".py",
   "mimetype": "text/x-python",
   "name": "python",
   "nbconvert_exporter": "python",
   "pygments_lexer": "ipython3",
   "version": "3.8.12"
  }
 },
 "nbformat": 4,
 "nbformat_minor": 5
}
